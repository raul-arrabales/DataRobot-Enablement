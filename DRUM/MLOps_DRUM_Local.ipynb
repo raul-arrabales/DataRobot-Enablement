{
 "cells": [
  {
   "cell_type": "markdown",
   "metadata": {},
   "source": [
    "## MLOps III - DRUM Laboratory\n",
    "\n",
    "raul.arrabales@datarobot.com\n",
    "\n",
    "Oct 2021"
   ]
  },
  {
   "cell_type": "markdown",
   "metadata": {},
   "source": [
    "**Intro to DRUM**\n",
    "- [Introducing DRUM](https://community.datarobot.com/t5/knowledge-base/introducing-drum/ta-p/9703)"
   ]
  },
  {
   "cell_type": "markdown",
   "metadata": {},
   "source": [
    "**Installing DRUM**"
   ]
  },
  {
   "cell_type": "code",
   "execution_count": 1,
   "metadata": {},
   "outputs": [
    {
     "name": "stdout",
     "output_type": "stream",
     "text": [
      "Collecting datarobot-drum\n",
      "  Downloading datarobot_drum-1.6.0-py3-none-any.whl (8.9 MB)\n",
      "Collecting texttable\n",
      "  Downloading texttable-1.6.4-py2.py3-none-any.whl (10 kB)\n",
      "Collecting strictyaml==1.4.2\n",
      "  Downloading strictyaml-1.4.2.tar.gz (50 kB)\n",
      "Collecting progress\n",
      "  Downloading progress-1.6.tar.gz (7.8 kB)\n",
      "Requirement already satisfied: scipy<2,>=1.1 in c:\\users\\array\\anaconda3\\lib\\site-packages (from datarobot-drum) (1.5.3)\n",
      "Collecting py4j~=0.10.9.0\n",
      "  Downloading py4j-0.10.9.2-py2.py3-none-any.whl (198 kB)\n",
      "Requirement already satisfied: numpy in c:\\users\\array\\anaconda3\\lib\\site-packages (from datarobot-drum) (1.19.2)\n",
      "Requirement already satisfied: requests in c:\\users\\array\\anaconda3\\lib\\site-packages (from datarobot-drum) (2.21.0)\n",
      "Collecting pyarrow==2.0.0\n",
      "  Downloading pyarrow-2.0.0-cp37-cp37m-win_amd64.whl (10.7 MB)\n",
      "Collecting argcomplete==1.11.1\n",
      "  Downloading argcomplete-1.11.1-py2.py3-none-any.whl (36 kB)\n",
      "Collecting memory-profiler<1.0.0\n",
      "  Downloading memory_profiler-0.58.0.tar.gz (36 kB)\n",
      "Collecting datarobot==2.24.0\n",
      "  Downloading datarobot-2.24.0-py3-none-any.whl (418 kB)\n",
      "Requirement already satisfied: flask in c:\\users\\array\\anaconda3\\lib\\site-packages (from datarobot-drum) (1.0.2)\n",
      "Collecting Pillow==8.3.2\n",
      "  Downloading Pillow-8.3.2-cp37-cp37m-win_amd64.whl (3.2 MB)\n",
      "Requirement already satisfied: trafaret!=1.1.0,<2.0,>=0.7 in c:\\users\\array\\anaconda3\\lib\\site-packages (from datarobot-drum) (1.2.0)\n",
      "Collecting julia==0.5.6\n",
      "  Downloading julia-0.5.6-py2.py3-none-any.whl (67 kB)\n",
      "Collecting mlpiper~=2.4.0\n",
      "  Downloading mlpiper-2.4.3-py2.py3-none-any.whl (781 kB)\n",
      "Requirement already satisfied: jinja2 in c:\\users\\array\\anaconda3\\lib\\site-packages (from datarobot-drum) (2.10)\n",
      "Collecting pandas<1.3.1,>=1.0.5\n",
      "  Downloading pandas-1.3.0-cp37-cp37m-win_amd64.whl (10.0 MB)\n",
      "Collecting docker>=4.2.2<5.0.0\n",
      "  Downloading docker-5.0.3-py2.py3-none-any.whl (146 kB)\n",
      "Requirement already satisfied: importlib-metadata<2,>=0.23 in c:\\users\\array\\anaconda3\\lib\\site-packages (from argcomplete==1.11.1->datarobot-drum) (1.7.0)\n",
      "Requirement already satisfied: attrs<20.0,>=19.1.0 in c:\\users\\array\\anaconda3\\lib\\site-packages (from datarobot==2.24.0->datarobot-drum) (19.1.0)\n",
      "Requirement already satisfied: contextlib2>=0.5.5 in c:\\users\\array\\anaconda3\\lib\\site-packages (from datarobot==2.24.0->datarobot-drum) (0.5.5)\n",
      "Requirement already satisfied: urllib3>=1.23 in c:\\users\\array\\anaconda3\\lib\\site-packages (from datarobot==2.24.0->datarobot-drum) (1.24.1)\n",
      "Requirement already satisfied: requests-toolbelt>=0.6 in c:\\users\\array\\anaconda3\\lib\\site-packages (from datarobot==2.24.0->datarobot-drum) (0.9.1)\n",
      "Requirement already satisfied: pyyaml>=3.11 in c:\\users\\array\\anaconda3\\lib\\site-packages (from datarobot==2.24.0->datarobot-drum) (5.1)\n",
      "Collecting ruamel.yaml==0.17.4\n",
      "  Downloading ruamel.yaml-0.17.4-py3-none-any.whl (101 kB)\n",
      "Requirement already satisfied: python-dateutil>=2.6.0 in c:\\users\\array\\anaconda3\\lib\\site-packages (from strictyaml==1.4.2->datarobot-drum) (2.8.0)\n",
      "Collecting ruamel.yaml.clib>=0.1.2\n",
      "  Downloading ruamel.yaml.clib-0.2.6-cp37-cp37m-win_amd64.whl (115 kB)\n",
      "Collecting pywin32==227\n",
      "  Downloading pywin32-227-cp37-cp37m-win_amd64.whl (9.1 MB)\n",
      "Requirement already satisfied: websocket-client>=0.32.0 in c:\\users\\array\\anaconda3\\lib\\site-packages (from docker>=4.2.2<5.0.0->datarobot-drum) (0.48.0)\n",
      "Requirement already satisfied: zipp>=0.5 in c:\\users\\array\\anaconda3\\lib\\site-packages (from importlib-metadata<2,>=0.23->argcomplete==1.11.1->datarobot-drum) (3.1.0)\n",
      "Requirement already satisfied: psutil in c:\\users\\array\\anaconda3\\lib\\site-packages (from memory-profiler<1.0.0->datarobot-drum) (5.6.1)\n",
      "Requirement already satisfied: future in c:\\users\\array\\anaconda3\\lib\\site-packages (from mlpiper~=2.4.0->datarobot-drum) (0.17.1)\n",
      "Collecting termcolor\n",
      "  Downloading termcolor-1.1.0.tar.gz (3.9 kB)\n",
      "Collecting flask-cors\n",
      "  Downloading Flask_Cors-3.0.10-py2.py3-none-any.whl (14 kB)\n",
      "Requirement already satisfied: pytz>=2017.3 in c:\\users\\array\\anaconda3\\lib\\site-packages (from pandas<1.3.1,>=1.0.5->datarobot-drum) (2018.9)\n",
      "Requirement already satisfied: six>=1.5 in c:\\users\\array\\anaconda3\\lib\\site-packages (from python-dateutil>=2.6.0->strictyaml==1.4.2->datarobot-drum) (1.16.0)\n",
      "Requirement already satisfied: chardet<3.1.0,>=3.0.2 in c:\\users\\array\\anaconda3\\lib\\site-packages (from requests->datarobot-drum) (3.0.4)\n",
      "Requirement already satisfied: idna<2.9,>=2.5 in c:\\users\\array\\anaconda3\\lib\\site-packages (from requests->datarobot-drum) (2.8)\n",
      "Requirement already satisfied: certifi>=2017.4.17 in c:\\users\\array\\anaconda3\\lib\\site-packages (from requests->datarobot-drum) (2019.3.9)\n",
      "Requirement already satisfied: Werkzeug>=0.14 in c:\\users\\array\\anaconda3\\lib\\site-packages (from flask->datarobot-drum) (0.14.1)\n",
      "Requirement already satisfied: click>=5.1 in c:\\users\\array\\anaconda3\\lib\\site-packages (from flask->datarobot-drum) (7.0)\n",
      "Requirement already satisfied: itsdangerous>=0.24 in c:\\users\\array\\anaconda3\\lib\\site-packages (from flask->datarobot-drum) (1.1.0)\n",
      "Requirement already satisfied: MarkupSafe>=0.23 in c:\\users\\array\\anaconda3\\lib\\site-packages (from jinja2->datarobot-drum) (1.1.1)\n",
      "Building wheels for collected packages: strictyaml, memory-profiler, progress, termcolor\n",
      "  Building wheel for strictyaml (setup.py): started\n",
      "  Building wheel for strictyaml (setup.py): finished with status 'done'\n",
      "  Created wheel for strictyaml: filename=strictyaml-1.4.2-py3-none-any.whl size=25884 sha256=d70116651024e98c4a79a126b9c4deda1f6cbf16e226d1ec90000b1673434a0a\n",
      "  Stored in directory: c:\\users\\array\\appdata\\local\\pip\\cache\\wheels\\b8\\d4\\48\\73e4de3d505ffcb0efec67445bb3ad140db7213944c3f6cdf3\n",
      "  Building wheel for memory-profiler (setup.py): started\n",
      "  Building wheel for memory-profiler (setup.py): finished with status 'done'\n",
      "  Created wheel for memory-profiler: filename=memory_profiler-0.58.0-py3-none-any.whl size=30185 sha256=d05674b155c772a3f4442b8f16b3326752cd1d604d157d6eb6a1835affce78ff\n",
      "  Stored in directory: c:\\users\\array\\appdata\\local\\pip\\cache\\wheels\\56\\19\\d5\\8cad06661aec65a04a0d6785b1a5ad035cb645b1772a4a0882\n",
      "  Building wheel for progress (setup.py): started\n",
      "  Building wheel for progress (setup.py): finished with status 'done'\n",
      "  Created wheel for progress: filename=progress-1.6-py3-none-any.whl size=9622 sha256=324d00f7d706ed67f64c05142ef9496472eab4717b5280ab808cd29941b237a6\n",
      "  Stored in directory: c:\\users\\array\\appdata\\local\\pip\\cache\\wheels\\8e\\d7\\61\\498d8e27dc11e9805b01eb3539e2ee344436fc226daeb5fe87\n",
      "  Building wheel for termcolor (setup.py): started\n",
      "  Building wheel for termcolor (setup.py): finished with status 'done'\n",
      "  Created wheel for termcolor: filename=termcolor-1.1.0-py3-none-any.whl size=4834 sha256=9c1c8df67fc25541a4dd9df80ec1997c1b43c73ee7874b521124acd7e027adbe\n",
      "  Stored in directory: c:\\users\\array\\appdata\\local\\pip\\cache\\wheels\\3f\\e3\\ec\\8a8336ff196023622fbcb36de0c5a5c218cbb24111d1d4c7f2\n",
      "Successfully built strictyaml memory-profiler progress termcolor\n",
      "Installing collected packages: ruamel.yaml.clib, termcolor, ruamel.yaml, pywin32, py4j, pandas, flask-cors, texttable, strictyaml, pyarrow, progress, Pillow, mlpiper, memory-profiler, julia, docker, datarobot, argcomplete, datarobot-drum\n",
      "  Attempting uninstall: ruamel.yaml\n",
      "    Found existing installation: ruamel-yaml 0.15.46\n"
     ]
    },
    {
     "name": "stderr",
     "output_type": "stream",
     "text": [
      "WARNING: Ignoring invalid distribution -umpy (c:\\users\\array\\anaconda3\\lib\\site-packages)\n",
      "WARNING: Ignoring invalid distribution -cipy (c:\\users\\array\\anaconda3\\lib\\site-packages)\n",
      "WARNING: Ignoring invalid distribution -umpy (c:\\users\\array\\anaconda3\\lib\\site-packages)\n",
      "WARNING: Ignoring invalid distribution -cipy (c:\\users\\array\\anaconda3\\lib\\site-packages)\n",
      "WARNING: Ignoring invalid distribution -umpy (c:\\users\\array\\anaconda3\\lib\\site-packages)\n",
      "WARNING: Ignoring invalid distribution -cipy (c:\\users\\array\\anaconda3\\lib\\site-packages)\n",
      "    WARNING: Ignoring invalid distribution -umpy (c:\\users\\array\\anaconda3\\lib\\site-packages)\n",
      "    WARNING: Ignoring invalid distribution -cipy (c:\\users\\array\\anaconda3\\lib\\site-packages)\n",
      "ERROR: Cannot uninstall 'ruamel-yaml'. It is a distutils installed project and thus we cannot accurately determine which files belong to it which would lead to only a partial uninstall.\n",
      "WARNING: Ignoring invalid distribution -umpy (c:\\users\\array\\anaconda3\\lib\\site-packages)\n",
      "WARNING: Ignoring invalid distribution -cipy (c:\\users\\array\\anaconda3\\lib\\site-packages)\n",
      "WARNING: Ignoring invalid distribution -umpy (c:\\users\\array\\anaconda3\\lib\\site-packages)\n",
      "WARNING: Ignoring invalid distribution -cipy (c:\\users\\array\\anaconda3\\lib\\site-packages)\n",
      "WARNING: Ignoring invalid distribution -umpy (c:\\users\\array\\anaconda3\\lib\\site-packages)\n",
      "WARNING: Ignoring invalid distribution -cipy (c:\\users\\array\\anaconda3\\lib\\site-packages)\n",
      "WARNING: You are using pip version 21.2.3; however, version 21.3 is available.\n",
      "You should consider upgrading via the 'c:\\users\\array\\anaconda3\\python.exe -m pip install --upgrade pip' command.\n"
     ]
    }
   ],
   "source": [
    "!pip install datarobot-drum"
   ]
  },
  {
   "cell_type": "code",
   "execution_count": 2,
   "metadata": {},
   "outputs": [
    {
     "name": "stdout",
     "output_type": "stream",
     "text": [
      "Requirement already satisfied: pip in c:\\users\\array\\anaconda3\\lib\\site-packages (21.2.3)\n",
      "Collecting pip\n",
      "  Downloading pip-21.3-py3-none-any.whl (1.7 MB)\n",
      "Installing collected packages: pip\n",
      "  Attempting uninstall: pip\n",
      "    Found existing installation: pip 21.2.3\n",
      "    Uninstalling pip-21.2.3:\n",
      "      Successfully uninstalled pip-21.2.3\n",
      "Successfully installed pip-21.3\n"
     ]
    },
    {
     "name": "stderr",
     "output_type": "stream",
     "text": [
      "WARNING: Ignoring invalid distribution -umpy (c:\\users\\array\\anaconda3\\lib\\site-packages)\n",
      "WARNING: Ignoring invalid distribution -cipy (c:\\users\\array\\anaconda3\\lib\\site-packages)\n",
      "WARNING: Ignoring invalid distribution -umpy (c:\\users\\array\\anaconda3\\lib\\site-packages)\n",
      "WARNING: Ignoring invalid distribution -cipy (c:\\users\\array\\anaconda3\\lib\\site-packages)\n",
      "WARNING: Ignoring invalid distribution -umpy (c:\\users\\array\\anaconda3\\lib\\site-packages)\n",
      "WARNING: Ignoring invalid distribution -cipy (c:\\users\\array\\anaconda3\\lib\\site-packages)\n",
      "    WARNING: Ignoring invalid distribution -umpy (c:\\users\\array\\anaconda3\\lib\\site-packages)\n",
      "    WARNING: Ignoring invalid distribution -cipy (c:\\users\\array\\anaconda3\\lib\\site-packages)\n",
      "WARNING: Ignoring invalid distribution -umpy (c:\\users\\array\\anaconda3\\lib\\site-packages)\n",
      "WARNING: Ignoring invalid distribution -cipy (c:\\users\\array\\anaconda3\\lib\\site-packages)\n",
      "WARNING: Ignoring invalid distribution -umpy (c:\\users\\array\\anaconda3\\lib\\site-packages)\n",
      "WARNING: Ignoring invalid distribution -cipy (c:\\users\\array\\anaconda3\\lib\\site-packages)\n",
      "WARNING: Ignoring invalid distribution -umpy (c:\\users\\array\\anaconda3\\lib\\site-packages)\n",
      "WARNING: Ignoring invalid distribution -cipy (c:\\users\\array\\anaconda3\\lib\\site-packages)\n",
      "WARNING: Ignoring invalid distribution -umpy (c:\\users\\array\\anaconda3\\lib\\site-packages)\n",
      "WARNING: Ignoring invalid distribution -cipy (c:\\users\\array\\anaconda3\\lib\\site-packages)\n"
     ]
    }
   ],
   "source": [
    "! c:\\users\\array\\anaconda3\\python.exe -m pip install --upgrade pip"
   ]
  },
  {
   "cell_type": "code",
   "execution_count": 19,
   "metadata": {},
   "outputs": [],
   "source": [
    "import datarobot"
   ]
  },
  {
   "cell_type": "markdown",
   "metadata": {},
   "source": [
    "**Data Sets**"
   ]
  },
  {
   "cell_type": "code",
   "execution_count": 6,
   "metadata": {},
   "outputs": [],
   "source": [
    "basePath = \"D:\\\\Dropbox-Array2001\\\\Dropbox\\\\DataSets\\\\DataRobot\\\\Housing\\\\BostonSmall\\\\\"\n",
    "TRAIN_DS = basePath + \"boston_housing.csv\"\n",
    "INFERENCE_DS = basePath + \"boston_housing_inference.csv\"\n",
    "MODEL = basePath + \"custom.py\""
   ]
  },
  {
   "cell_type": "code",
   "execution_count": 11,
   "metadata": {},
   "outputs": [],
   "source": [
    "# Export as env vble for DRUM\n",
    "import sys,os\n",
    "\n",
    "os.environ['INFERENCE_DS'] = INFERENCE_DS"
   ]
  },
  {
   "cell_type": "markdown",
   "metadata": {},
   "source": [
    "**Train Model**"
   ]
  },
  {
   "cell_type": "code",
   "execution_count": 7,
   "metadata": {},
   "outputs": [],
   "source": [
    "import pandas as pd\n",
    "from sklearn.ensemble import RandomForestRegressor\n",
    "import pickle\n",
    "import datetime"
   ]
  },
  {
   "cell_type": "code",
   "execution_count": 8,
   "metadata": {},
   "outputs": [
    {
     "data": {
      "text/html": [
       "<div>\n",
       "<style scoped>\n",
       "    .dataframe tbody tr th:only-of-type {\n",
       "        vertical-align: middle;\n",
       "    }\n",
       "\n",
       "    .dataframe tbody tr th {\n",
       "        vertical-align: top;\n",
       "    }\n",
       "\n",
       "    .dataframe thead th {\n",
       "        text-align: right;\n",
       "    }\n",
       "</style>\n",
       "<table border=\"1\" class=\"dataframe\">\n",
       "  <thead>\n",
       "    <tr style=\"text-align: right;\">\n",
       "      <th></th>\n",
       "      <th>CRIM</th>\n",
       "      <th>ZN</th>\n",
       "      <th>INDUS</th>\n",
       "      <th>CHAS</th>\n",
       "      <th>NOX</th>\n",
       "      <th>RM</th>\n",
       "      <th>AGE</th>\n",
       "      <th>DIS</th>\n",
       "      <th>RAD</th>\n",
       "      <th>TAX</th>\n",
       "      <th>PTRATIO</th>\n",
       "      <th>B</th>\n",
       "      <th>LSTAT</th>\n",
       "      <th>MEDV</th>\n",
       "    </tr>\n",
       "  </thead>\n",
       "  <tbody>\n",
       "    <tr>\n",
       "      <th>0</th>\n",
       "      <td>0.00632</td>\n",
       "      <td>18.0</td>\n",
       "      <td>2.31</td>\n",
       "      <td>0</td>\n",
       "      <td>0.538</td>\n",
       "      <td>6.575</td>\n",
       "      <td>65.2</td>\n",
       "      <td>4.0900</td>\n",
       "      <td>1</td>\n",
       "      <td>296</td>\n",
       "      <td>15.3</td>\n",
       "      <td>396.90</td>\n",
       "      <td>4.98</td>\n",
       "      <td>24.0</td>\n",
       "    </tr>\n",
       "    <tr>\n",
       "      <th>1</th>\n",
       "      <td>0.02731</td>\n",
       "      <td>0.0</td>\n",
       "      <td>7.07</td>\n",
       "      <td>0</td>\n",
       "      <td>0.469</td>\n",
       "      <td>6.421</td>\n",
       "      <td>78.9</td>\n",
       "      <td>4.9671</td>\n",
       "      <td>2</td>\n",
       "      <td>242</td>\n",
       "      <td>17.8</td>\n",
       "      <td>396.90</td>\n",
       "      <td>9.14</td>\n",
       "      <td>21.6</td>\n",
       "    </tr>\n",
       "    <tr>\n",
       "      <th>2</th>\n",
       "      <td>0.02729</td>\n",
       "      <td>0.0</td>\n",
       "      <td>7.07</td>\n",
       "      <td>0</td>\n",
       "      <td>0.469</td>\n",
       "      <td>7.185</td>\n",
       "      <td>61.1</td>\n",
       "      <td>4.9671</td>\n",
       "      <td>2</td>\n",
       "      <td>242</td>\n",
       "      <td>17.8</td>\n",
       "      <td>392.83</td>\n",
       "      <td>4.03</td>\n",
       "      <td>34.7</td>\n",
       "    </tr>\n",
       "    <tr>\n",
       "      <th>3</th>\n",
       "      <td>0.03237</td>\n",
       "      <td>0.0</td>\n",
       "      <td>2.18</td>\n",
       "      <td>0</td>\n",
       "      <td>0.458</td>\n",
       "      <td>6.998</td>\n",
       "      <td>45.8</td>\n",
       "      <td>6.0622</td>\n",
       "      <td>3</td>\n",
       "      <td>222</td>\n",
       "      <td>18.7</td>\n",
       "      <td>394.63</td>\n",
       "      <td>2.94</td>\n",
       "      <td>33.4</td>\n",
       "    </tr>\n",
       "    <tr>\n",
       "      <th>4</th>\n",
       "      <td>0.06905</td>\n",
       "      <td>0.0</td>\n",
       "      <td>2.18</td>\n",
       "      <td>0</td>\n",
       "      <td>0.458</td>\n",
       "      <td>7.147</td>\n",
       "      <td>54.2</td>\n",
       "      <td>6.0622</td>\n",
       "      <td>3</td>\n",
       "      <td>222</td>\n",
       "      <td>18.7</td>\n",
       "      <td>396.90</td>\n",
       "      <td>5.33</td>\n",
       "      <td>36.2</td>\n",
       "    </tr>\n",
       "  </tbody>\n",
       "</table>\n",
       "</div>"
      ],
      "text/plain": [
       "      CRIM    ZN  INDUS  CHAS    NOX     RM   AGE     DIS  RAD  TAX  PTRATIO  \\\n",
       "0  0.00632  18.0   2.31     0  0.538  6.575  65.2  4.0900    1  296     15.3   \n",
       "1  0.02731   0.0   7.07     0  0.469  6.421  78.9  4.9671    2  242     17.8   \n",
       "2  0.02729   0.0   7.07     0  0.469  7.185  61.1  4.9671    2  242     17.8   \n",
       "3  0.03237   0.0   2.18     0  0.458  6.998  45.8  6.0622    3  222     18.7   \n",
       "4  0.06905   0.0   2.18     0  0.458  7.147  54.2  6.0622    3  222     18.7   \n",
       "\n",
       "        B  LSTAT  MEDV  \n",
       "0  396.90   4.98  24.0  \n",
       "1  396.90   9.14  21.6  \n",
       "2  392.83   4.03  34.7  \n",
       "3  394.63   2.94  33.4  \n",
       "4  396.90   5.33  36.2  "
      ]
     },
     "execution_count": 8,
     "metadata": {},
     "output_type": "execute_result"
    }
   ],
   "source": [
    "df = pd.read_csv(TRAIN_DS)\n",
    "df.head()"
   ]
  },
  {
   "cell_type": "code",
   "execution_count": 9,
   "metadata": {},
   "outputs": [
    {
     "name": "stdout",
     "output_type": "stream",
     "text": [
      "Done!\n"
     ]
    }
   ],
   "source": [
    "## set features and target\n",
    "\n",
    "X = df.drop('MEDV', axis=1)\n",
    "y = df['MEDV']\n",
    "\n",
    "## train the model\n",
    "rf = RandomForestRegressor(n_estimators = 20, random_state = 801)\n",
    "rf.fit(X,y)\n",
    "\n",
    "## serialize the model\n",
    "\n",
    "with open('rf.pkl', 'wb') as pkl:\n",
    "    pickle.dump(rf, pkl)\n",
    "\n",
    "print(\"Done!\")    "
   ]
  },
  {
   "cell_type": "markdown",
   "metadata": {},
   "source": [
    "**DRUM CLI Tool**\n",
    "- [DRUM CLI Docs](https://docs.datarobot.com/en/docs/release/public-preview/automl-preview/cml/cml-drum.html)"
   ]
  },
  {
   "cell_type": "markdown",
   "metadata": {},
   "source": [
    "**Model Testing**"
   ]
  },
  {
   "cell_type": "code",
   "execution_count": 22,
   "metadata": {},
   "outputs": [],
   "source": [
    "# ! drum perf-test --code-dir ./ --input $INFERENCE_DS --target-type regression "
   ]
  },
  {
   "cell_type": "markdown",
   "metadata": {},
   "source": [
    "**Model Validation**"
   ]
  },
  {
   "cell_type": "code",
   "execution_count": null,
   "metadata": {},
   "outputs": [],
   "source": [
    "# ! drum validation --code-dir ./ --input $INFERENCE --target-type regression > validation.log"
   ]
  },
  {
   "cell_type": "markdown",
   "metadata": {},
   "source": [
    "**Model Batch Scoring**"
   ]
  },
  {
   "cell_type": "code",
   "execution_count": null,
   "metadata": {},
   "outputs": [],
   "source": [
    "# !drum score  --code-dir ./ --input $INFERENCE --target-type regression > predictions.csv"
   ]
  }
 ],
 "metadata": {
  "kernelspec": {
   "display_name": "Python 3",
   "language": "python",
   "name": "python3"
  },
  "language_info": {
   "codemirror_mode": {
    "name": "ipython",
    "version": 3
   },
   "file_extension": ".py",
   "mimetype": "text/x-python",
   "name": "python",
   "nbconvert_exporter": "python",
   "pygments_lexer": "ipython3",
   "version": "3.7.3"
  }
 },
 "nbformat": 4,
 "nbformat_minor": 2
}
