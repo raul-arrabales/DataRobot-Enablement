{
 "cells": [
  {
   "cell_type": "markdown",
   "metadata": {},
   "source": [
    "## DataRobot Python API Client Mini Demo\n",
    "\n",
    "<pre>raul.arrabales@datarobot.com</pre>\n",
    "\n",
    "<hr>\n",
    "\n",
    "- See https://datarobot-public-api-client.readthedocs-hosted.com/en/v2.25.1/setup/getting_started.html#installation\n",
    "\n",
    "Additionally: \n",
    "\n",
    "- API Client Documentation: https://datarobot-public-api-client.readthedocs-hosted.com/en/v2.26.0/ \n",
    "- API Reference: https://datarobot-public-api-client.readthedocs-hosted.com/en/v2.25.1/autodoc/api_reference.html"
   ]
  },
  {
   "cell_type": "code",
   "execution_count": 2,
   "metadata": {},
   "outputs": [],
   "source": [
    "# Set interactive shell in Jupyter\n",
    "from IPython.core.interactiveshell import InteractiveShell\n",
    "InteractiveShell.ast_node_interactivity = \"all\""
   ]
  },
  {
   "cell_type": "markdown",
   "metadata": {},
   "source": [
    "### 1.- Install de Python API client with pip (to be used to access the managed cloud DR platform)"
   ]
  },
  {
   "cell_type": "code",
   "execution_count": 1,
   "metadata": {},
   "outputs": [
    {
     "name": "stdout",
     "output_type": "stream",
     "text": [
      "Collecting datarobot\n",
      "  Downloading datarobot-2.25.1-py3-none-any.whl (471 kB)\n",
      "Collecting trafaret!=1.1.0,<2.0,>=0.7\n",
      "  Downloading trafaret-1.2.0-py3-none-any.whl (27 kB)\n",
      "Requirement already satisfied: urllib3>=1.23 in c:\\users\\array\\anaconda3\\lib\\site-packages (from datarobot) (1.24.1)\n",
      "Requirement already satisfied: requests>=2.21 in c:\\users\\array\\anaconda3\\lib\\site-packages (from datarobot) (2.21.0)\n",
      "Requirement already satisfied: attrs<20.0,>=19.1.0 in c:\\users\\array\\anaconda3\\lib\\site-packages (from datarobot) (19.1.0)\n",
      "Requirement already satisfied: contextlib2>=0.5.5 in c:\\users\\array\\anaconda3\\lib\\site-packages (from datarobot) (0.5.5)\n",
      "Requirement already satisfied: pandas<1.3.1,>=0.15 in c:\\users\\array\\anaconda3\\lib\\site-packages (from datarobot) (0.24.2)\n",
      "Collecting requests-toolbelt>=0.6\n",
      "  Downloading requests_toolbelt-0.9.1-py2.py3-none-any.whl (54 kB)\n",
      "Requirement already satisfied: pyyaml>=3.11 in c:\\users\\array\\anaconda3\\lib\\site-packages (from datarobot) (5.1)\n",
      "Requirement already satisfied: python-dateutil>=2.5.0 in c:\\users\\array\\anaconda3\\lib\\site-packages (from pandas<1.3.1,>=0.15->datarobot) (2.8.0)\n",
      "Requirement already satisfied: numpy>=1.12.0 in c:\\users\\array\\anaconda3\\lib\\site-packages (from pandas<1.3.1,>=0.15->datarobot) (1.19.2)\n",
      "Requirement already satisfied: pytz>=2011k in c:\\users\\array\\anaconda3\\lib\\site-packages (from pandas<1.3.1,>=0.15->datarobot) (2018.9)\n",
      "Requirement already satisfied: six>=1.5 in c:\\users\\array\\anaconda3\\lib\\site-packages (from python-dateutil>=2.5.0->pandas<1.3.1,>=0.15->datarobot) (1.16.0)\n",
      "Requirement already satisfied: certifi>=2017.4.17 in c:\\users\\array\\anaconda3\\lib\\site-packages (from requests>=2.21->datarobot) (2019.3.9)\n",
      "Requirement already satisfied: chardet<3.1.0,>=3.0.2 in c:\\users\\array\\anaconda3\\lib\\site-packages (from requests>=2.21->datarobot) (3.0.4)\n",
      "Requirement already satisfied: idna<2.9,>=2.5 in c:\\users\\array\\anaconda3\\lib\\site-packages (from requests>=2.21->datarobot) (2.8)\n",
      "Installing collected packages: trafaret, requests-toolbelt, datarobot\n",
      "Successfully installed datarobot-2.25.1 requests-toolbelt-0.9.1 trafaret-1.2.0\n"
     ]
    },
    {
     "name": "stderr",
     "output_type": "stream",
     "text": [
      "WARNING: Ignoring invalid distribution -umpy (c:\\users\\array\\anaconda3\\lib\\site-packages)\n",
      "WARNING: Ignoring invalid distribution -cipy (c:\\users\\array\\anaconda3\\lib\\site-packages)\n",
      "WARNING: Ignoring invalid distribution -umpy (c:\\users\\array\\anaconda3\\lib\\site-packages)\n",
      "WARNING: Ignoring invalid distribution -cipy (c:\\users\\array\\anaconda3\\lib\\site-packages)\n",
      "WARNING: Ignoring invalid distribution -umpy (c:\\users\\array\\anaconda3\\lib\\site-packages)\n",
      "WARNING: Ignoring invalid distribution -cipy (c:\\users\\array\\anaconda3\\lib\\site-packages)\n",
      "WARNING: Ignoring invalid distribution -umpy (c:\\users\\array\\anaconda3\\lib\\site-packages)\n",
      "WARNING: Ignoring invalid distribution -cipy (c:\\users\\array\\anaconda3\\lib\\site-packages)\n",
      "WARNING: Ignoring invalid distribution -umpy (c:\\users\\array\\anaconda3\\lib\\site-packages)\n",
      "WARNING: Ignoring invalid distribution -cipy (c:\\users\\array\\anaconda3\\lib\\site-packages)\n",
      "WARNING: Ignoring invalid distribution -umpy (c:\\users\\array\\anaconda3\\lib\\site-packages)\n",
      "WARNING: Ignoring invalid distribution -cipy (c:\\users\\array\\anaconda3\\lib\\site-packages)\n",
      "WARNING: Ignoring invalid distribution -umpy (c:\\users\\array\\anaconda3\\lib\\site-packages)\n",
      "WARNING: Ignoring invalid distribution -cipy (c:\\users\\array\\anaconda3\\lib\\site-packages)\n",
      "WARNING: Ignoring invalid distribution -umpy (c:\\users\\array\\anaconda3\\lib\\site-packages)\n",
      "WARNING: Ignoring invalid distribution -cipy (c:\\users\\array\\anaconda3\\lib\\site-packages)\n",
      "WARNING: Ignoring invalid distribution -umpy (c:\\users\\array\\anaconda3\\lib\\site-packages)\n",
      "WARNING: Ignoring invalid distribution -cipy (c:\\users\\array\\anaconda3\\lib\\site-packages)\n",
      "WARNING: You are using pip version 21.2.3; however, version 21.2.4 is available.\n",
      "You should consider upgrading via the 'c:\\users\\array\\anaconda3\\python.exe -m pip install --upgrade pip' command.\n"
     ]
    }
   ],
   "source": [
    "! pip install datarobot"
   ]
  },
  {
   "cell_type": "markdown",
   "metadata": {},
   "source": [
    "### 2.- Create the API Key in DR (https://app.datarobot.com/account/developer-tools)\n",
    "\n",
    "Now, you have a key looking like this: \"NjE0OTk1 [...]\"\n",
    "\n",
    "I will use the end point of the US Managed IA Cloud: https://app.datarobot.com/api/v2 \n",
    "\n",
    "Both, the API Key and the end point are stored in the same dir a the file **drconfig.yaml**"
   ]
  },
  {
   "cell_type": "markdown",
   "metadata": {},
   "source": [
    "### 3.- Create and Configure the client object"
   ]
  },
  {
   "cell_type": "code",
   "execution_count": 8,
   "metadata": {},
   "outputs": [],
   "source": [
    "from datetime import date\n",
    "import pandas as pd\n",
    "\n",
    "import datarobot as dr"
   ]
  },
  {
   "cell_type": "code",
   "execution_count": 4,
   "metadata": {},
   "outputs": [
    {
     "data": {
      "text/plain": [
       "<datarobot.rest.RESTClientObject at 0x1ebe584f0b8>"
      ]
     },
     "execution_count": 4,
     "metadata": {},
     "output_type": "execute_result"
    }
   ],
   "source": [
    "# Create and configure the client\n",
    "dr.Client(config_path = 'drconfig.yaml')"
   ]
  },
  {
   "cell_type": "markdown",
   "metadata": {},
   "source": [
    "### 4.- Grabbing a sample dataset\n",
    "\n",
    "The wine data comes from the University of California, Irvine Machine Learning Repository: https://archive.ics.uci.edu/ml/datasets/wine+quality.\n",
    "\n",
    "Citation: P. Cortez, A. Cerdeira, F. Almeida, T. Matos and J. Reis. Modeling wine preferences by data mining from physicochemical properties. In Decision Support Systems, Elsevier, 47(4):547-553, 2009."
   ]
  },
  {
   "cell_type": "code",
   "execution_count": 30,
   "metadata": {},
   "outputs": [],
   "source": [
    "train_DS_Path = \"D:\\Dropbox-Array2001\\Dropbox\\DataSets\\DataRobot\\WineQualityDataSet\\winequality-white-training.csv\" \n",
    "score_DS_Path = \"D:\\Dropbox-Array2001\\Dropbox\\DataSets\\DataRobot\\WineQualityDataSet\\winequality-white-score.csv\"\n",
    "preds_DS_Path = \"D:\\Dropbox-Array2001\\Dropbox\\DataSets\\DataRobot\\WineQualityDataSet\\winequality-white-predictions.csv\""
   ]
  },
  {
   "cell_type": "code",
   "execution_count": 11,
   "metadata": {},
   "outputs": [
    {
     "data": {
      "text/html": [
       "<div>\n",
       "<style scoped>\n",
       "    .dataframe tbody tr th:only-of-type {\n",
       "        vertical-align: middle;\n",
       "    }\n",
       "\n",
       "    .dataframe tbody tr th {\n",
       "        vertical-align: top;\n",
       "    }\n",
       "\n",
       "    .dataframe thead th {\n",
       "        text-align: right;\n",
       "    }\n",
       "</style>\n",
       "<table border=\"1\" class=\"dataframe\">\n",
       "  <thead>\n",
       "    <tr style=\"text-align: right;\">\n",
       "      <th></th>\n",
       "      <th>fixed acidity</th>\n",
       "      <th>volatile acidity</th>\n",
       "      <th>citric acid</th>\n",
       "      <th>residual sugar</th>\n",
       "      <th>chlorides</th>\n",
       "      <th>free sulfur dioxide</th>\n",
       "      <th>total sulfur dioxide</th>\n",
       "      <th>density</th>\n",
       "      <th>pH</th>\n",
       "      <th>sulphates</th>\n",
       "      <th>alcohol</th>\n",
       "      <th>quality</th>\n",
       "    </tr>\n",
       "  </thead>\n",
       "  <tbody>\n",
       "    <tr>\n",
       "      <th>0</th>\n",
       "      <td>7.0</td>\n",
       "      <td>0.27</td>\n",
       "      <td>0.36</td>\n",
       "      <td>20.7</td>\n",
       "      <td>0.045</td>\n",
       "      <td>45.0</td>\n",
       "      <td>170.0</td>\n",
       "      <td>1.0010</td>\n",
       "      <td>3.00</td>\n",
       "      <td>0.45</td>\n",
       "      <td>8.8</td>\n",
       "      <td>6</td>\n",
       "    </tr>\n",
       "    <tr>\n",
       "      <th>1</th>\n",
       "      <td>6.3</td>\n",
       "      <td>0.30</td>\n",
       "      <td>0.34</td>\n",
       "      <td>1.6</td>\n",
       "      <td>0.049</td>\n",
       "      <td>14.0</td>\n",
       "      <td>132.0</td>\n",
       "      <td>0.9940</td>\n",
       "      <td>3.30</td>\n",
       "      <td>0.49</td>\n",
       "      <td>9.5</td>\n",
       "      <td>6</td>\n",
       "    </tr>\n",
       "    <tr>\n",
       "      <th>2</th>\n",
       "      <td>8.1</td>\n",
       "      <td>0.28</td>\n",
       "      <td>0.40</td>\n",
       "      <td>6.9</td>\n",
       "      <td>0.050</td>\n",
       "      <td>30.0</td>\n",
       "      <td>97.0</td>\n",
       "      <td>0.9951</td>\n",
       "      <td>3.26</td>\n",
       "      <td>0.44</td>\n",
       "      <td>10.1</td>\n",
       "      <td>6</td>\n",
       "    </tr>\n",
       "    <tr>\n",
       "      <th>3</th>\n",
       "      <td>7.2</td>\n",
       "      <td>0.23</td>\n",
       "      <td>0.32</td>\n",
       "      <td>8.5</td>\n",
       "      <td>0.058</td>\n",
       "      <td>47.0</td>\n",
       "      <td>186.0</td>\n",
       "      <td>0.9956</td>\n",
       "      <td>3.19</td>\n",
       "      <td>0.40</td>\n",
       "      <td>9.9</td>\n",
       "      <td>6</td>\n",
       "    </tr>\n",
       "    <tr>\n",
       "      <th>4</th>\n",
       "      <td>7.2</td>\n",
       "      <td>0.23</td>\n",
       "      <td>0.32</td>\n",
       "      <td>8.5</td>\n",
       "      <td>0.058</td>\n",
       "      <td>47.0</td>\n",
       "      <td>186.0</td>\n",
       "      <td>0.9956</td>\n",
       "      <td>3.19</td>\n",
       "      <td>0.40</td>\n",
       "      <td>9.9</td>\n",
       "      <td>6</td>\n",
       "    </tr>\n",
       "  </tbody>\n",
       "</table>\n",
       "</div>"
      ],
      "text/plain": [
       "   fixed acidity  volatile acidity  citric acid  residual sugar  chlorides  \\\n",
       "0            7.0              0.27         0.36            20.7      0.045   \n",
       "1            6.3              0.30         0.34             1.6      0.049   \n",
       "2            8.1              0.28         0.40             6.9      0.050   \n",
       "3            7.2              0.23         0.32             8.5      0.058   \n",
       "4            7.2              0.23         0.32             8.5      0.058   \n",
       "\n",
       "   free sulfur dioxide  total sulfur dioxide  density    pH  sulphates  \\\n",
       "0                 45.0                 170.0   1.0010  3.00       0.45   \n",
       "1                 14.0                 132.0   0.9940  3.30       0.49   \n",
       "2                 30.0                  97.0   0.9951  3.26       0.44   \n",
       "3                 47.0                 186.0   0.9956  3.19       0.40   \n",
       "4                 47.0                 186.0   0.9956  3.19       0.40   \n",
       "\n",
       "   alcohol  quality  \n",
       "0      8.8        6  \n",
       "1      9.5        6  \n",
       "2     10.1        6  \n",
       "3      9.9        6  \n",
       "4      9.9        6  "
      ]
     },
     "execution_count": 11,
     "metadata": {},
     "output_type": "execute_result"
    }
   ],
   "source": [
    "trainingData = pd.read_csv(train_DS_Path)\n",
    "trainingData.head()"
   ]
  },
  {
   "cell_type": "markdown",
   "metadata": {},
   "source": [
    "### 5.- Start a Project\n",
    "\n",
    "- Load Dataset\n",
    "- Perform EDA1"
   ]
  },
  {
   "cell_type": "code",
   "execution_count": 9,
   "metadata": {},
   "outputs": [
    {
     "data": {
      "text/plain": [
       "'Python wine quality 2021-09-21'"
      ]
     },
     "execution_count": 9,
     "metadata": {},
     "output_type": "execute_result"
    }
   ],
   "source": [
    "projectName = 'Python wine quality ' + date.today().strftime(format = \"%Y-%m-%d\")\n",
    "projectName"
   ]
  },
  {
   "cell_type": "code",
   "execution_count": 12,
   "metadata": {},
   "outputs": [
    {
     "name": "stdout",
     "output_type": "stream",
     "text": [
      "6149a3419a7958e3e48b9e0d Python wine quality 2021-09-21\n"
     ]
    }
   ],
   "source": [
    "project = dr.Project.create (\n",
    "    sourcedata = trainingData,\n",
    "    project_name = projectName\n",
    ")\n",
    "\n",
    "print(project.id, project.project_name)\n",
    "\n",
    "# Check https://app.datarobot.com/manage-projects to see this project in the GUI"
   ]
  },
  {
   "cell_type": "code",
   "execution_count": 18,
   "metadata": {},
   "outputs": [
    {
     "data": {
      "text/plain": [
       "[Feature(alcohol),\n",
       " Feature(chlorides),\n",
       " Feature(citric acid),\n",
       " Feature(density),\n",
       " Feature(fixed acidity),\n",
       " Feature(free sulfur dioxide),\n",
       " Feature(pH),\n",
       " Feature(quality),\n",
       " Feature(residual sugar),\n",
       " Feature(sulphates),\n",
       " Feature(total sulfur dioxide),\n",
       " Feature(volatile acidity)]"
      ]
     },
     "execution_count": 18,
     "metadata": {},
     "output_type": "execute_result"
    }
   ],
   "source": [
    "# Check project feats:\n",
    "feats = project.get_features()\n",
    "feats"
   ]
  },
  {
   "cell_type": "markdown",
   "metadata": {},
   "source": [
    "### 6.- Build Models\n",
    "\n",
    "- Run DataRobot Autopilot\n",
    "- Perform EDA2\n",
    "- Build initial set of models."
   ]
  },
  {
   "cell_type": "code",
   "execution_count": 21,
   "metadata": {},
   "outputs": [
    {
     "data": {
      "text/plain": [
       "Project(Python wine quality 2021-09-21)"
      ]
     },
     "execution_count": 21,
     "metadata": {},
     "output_type": "execute_result"
    }
   ],
   "source": [
    "# Set the target vble (y) to quality:\n",
    "project.set_target(target = 'quality')"
   ]
  },
  {
   "cell_type": "code",
   "execution_count": 22,
   "metadata": {},
   "outputs": [
    {
     "name": "stdout",
     "output_type": "stream",
     "text": [
      "In progress: 2, queued: 7 (waited: 0s)\n",
      "In progress: 2, queued: 7 (waited: 2s)\n",
      "In progress: 2, queued: 7 (waited: 3s)\n",
      "In progress: 2, queued: 7 (waited: 5s)\n",
      "In progress: 2, queued: 7 (waited: 7s)\n",
      "In progress: 1, queued: 7 (waited: 9s)\n",
      "In progress: 2, queued: 6 (waited: 14s)\n",
      "In progress: 7, queued: 0 (waited: 22s)\n",
      "In progress: 7, queued: 0 (waited: 36s)\n",
      "In progress: 1, queued: 0 (waited: 57s)\n",
      "In progress: 1, queued: 0 (waited: 78s)\n",
      "In progress: 4, queued: 0 (waited: 99s)\n",
      "In progress: 4, queued: 0 (waited: 121s)\n",
      "In progress: 10, queued: 6 (waited: 142s)\n",
      "In progress: 10, queued: 6 (waited: 164s)\n",
      "In progress: 10, queued: 0 (waited: 186s)\n",
      "In progress: 3, queued: 0 (waited: 207s)\n",
      "In progress: 0, queued: 0 (waited: 228s)\n",
      "In progress: 0, queued: 0 (waited: 249s)\n",
      "In progress: 0, queued: 0 (waited: 270s)\n",
      "In progress: 0, queued: 0 (waited: 291s)\n",
      "In progress: 0, queued: 0 (waited: 312s)\n",
      "In progress: 5, queued: 0 (waited: 333s)\n",
      "In progress: 5, queued: 0 (waited: 354s)\n",
      "In progress: 0, queued: 0 (waited: 376s)\n",
      "In progress: 1, queued: 0 (waited: 397s)\n",
      "In progress: 1, queued: 0 (waited: 418s)\n",
      "In progress: 1, queued: 0 (waited: 439s)\n",
      "In progress: 0, queued: 0 (waited: 460s)\n",
      "In progress: 2, queued: 0 (waited: 481s)\n",
      "In progress: 1, queued: 0 (waited: 503s)\n",
      "In progress: 0, queued: 0 (waited: 524s)\n",
      "In progress: 0, queued: 0 (waited: 544s)\n",
      "In progress: 0, queued: 0 (waited: 565s)\n",
      "In progress: 0, queued: 0 (waited: 586s)\n",
      "In progress: 0, queued: 0 (waited: 607s)\n",
      "In progress: 0, queued: 0 (waited: 628s)\n"
     ]
    }
   ],
   "source": [
    "# Wait for Autopilot completion (you can check the GUI)\n",
    "project.wait_for_autopilot()"
   ]
  },
  {
   "cell_type": "markdown",
   "metadata": {},
   "source": [
    "### 7.- View and Deploy Models\n",
    "\n",
    "- Check projects. \n",
    "- Check models in a project. \n",
    "- Get the recommended model for deployment. \n",
    "- Deploy the model"
   ]
  },
  {
   "cell_type": "code",
   "execution_count": 23,
   "metadata": {},
   "outputs": [
    {
     "name": "stdout",
     "output_type": "stream",
     "text": [
      "6149a3419a7958e3e48b9e0d Python wine quality 2021-09-21\n",
      "6148b476f5322a919051135e DRU_Lab_Eval_Regression\n",
      "6142f779b37d92fd04d16c45 DRU_AutoML_DataScientist\n",
      "614207c0beee4a728d4c00ee DRU_AutoML_CitizenDS\n",
      "5fff1dc1c50bef9d7aa46c4b Utah Housing Listings Demo\n",
      "5fdb79f2597db9c2478cfcd1 AutoML 1\n",
      "5fcfdf1cb39bd5561be4d7a7 Demo: Readmission AFD (Main, No ICD10)\n",
      "5fce704970ebf7dd7de4d7f5 HR Hiring (Bias & Fairness)\n"
     ]
    }
   ],
   "source": [
    "# Check all projects\n",
    "for p in dr.Project.list():\n",
    "    print (p.id, p.project_name)"
   ]
  },
  {
   "cell_type": "code",
   "execution_count": 24,
   "metadata": {},
   "outputs": [
    {
     "name": "stdout",
     "output_type": "stream",
     "text": [
      "Python wine quality 2021-09-21\n"
     ]
    }
   ],
   "source": [
    "# I already have mine in vble project: \n",
    "print(project.project_name)\n",
    "\n",
    "# If I hadn't:\n",
    "# projectId = 'your-project-id'\n",
    "# project = dr.Project.get(projectId)\n",
    "# print(project)"
   ]
  },
  {
   "cell_type": "code",
   "execution_count": 25,
   "metadata": {},
   "outputs": [
    {
     "name": "stdout",
     "output_type": "stream",
     "text": [
      "6149a76dfd6b8985128bc143 RandomForest Regressor\n",
      "6149a61d8f6a02a07b594ce6 RandomForest Regressor\n",
      "6149a79e7038fecafef17125 AVG Blender\n",
      "6149a70801182efe44f17119 RandomForest Regressor\n",
      "6149a61d8f6a02a07b594ce8 Light Gradient Boosted Trees Regressor with Early Stopping\n",
      "6149a73d5a5be21f5f8bc145 RandomForest Regressor\n",
      "6149a61d8f6a02a07b594ce9 eXtreme Gradient Boosted Trees Regressor\n",
      "6149a61d8f6a02a07b594ce7 Light Gradient Boosting on ElasticNet Predictions \n",
      "6149a5ad8b854a085cdad5f4 RandomForest Regressor\n",
      "6149a5ad8b854a085cdad5f7 Light Gradient Boosting on ElasticNet Predictions \n",
      "6149a5ad8b854a085cdad5f6 Light Gradient Boosted Trees Regressor with Early Stopping\n",
      "6149a79b7038fecafef17120 RandomForest Regressor\n",
      "6149a5ac8b854a085cdad5f1 eXtreme Gradient Boosted Trees Regressor\n",
      "6149a5ac8b854a085cdad5f0 RuleFit Regressor\n",
      "6149a5ac8b854a085cdad5ef Keras Slim Residual Neural Network Regressor using Training Schedule (1 Layer: 64 Units)\n",
      "6149a5ad8b854a085cdad5f5 Generalized Additive2 Model\n",
      "6149a5ac8b854a085cdad5f2 Ridge Regressor\n",
      "6149a5ac8b854a085cdad5f3 Elastic-Net Regressor (mixing alpha=0.5 / Least-Squares Loss)\n"
     ]
    }
   ],
   "source": [
    "# Get the list of models built by Autopilot:\n",
    "models = project.get_models()\n",
    "for m in models:\n",
    "    print(m.id,m.model_type)"
   ]
  },
  {
   "cell_type": "code",
   "execution_count": 26,
   "metadata": {},
   "outputs": [
    {
     "name": "stdout",
     "output_type": "stream",
     "text": [
      "6149a76dfd6b8985128bc143 RandomForest Regressor\n"
     ]
    }
   ],
   "source": [
    "# Skipping explorarion and evaluation of models.\n",
    "# Let's get directly to the recommended by DR:\n",
    "\n",
    "recommendedModel = dr.ModelRecommendation.get(project.id).get_model()\n",
    "print (recommendedModel.id,recommendedModel.model_type)"
   ]
  },
  {
   "cell_type": "code",
   "execution_count": 28,
   "metadata": {},
   "outputs": [
    {
     "data": {
      "text/plain": [
       "[PredictionServer(https://mlops.dynamic.orm.datarobot.com),\n",
       " PredictionServer(https://datarobot-cfds.dynamic.orm.datarobot.com),\n",
       " PredictionServer(https://cfds-ccm-prod.orm.datarobot.com)]"
      ]
     },
     "execution_count": 28,
     "metadata": {},
     "output_type": "execute_result"
    }
   ],
   "source": [
    "# Check my prediction servers\n",
    "dr.PredictionServer.list()"
   ]
  },
  {
   "cell_type": "code",
   "execution_count": 29,
   "metadata": {},
   "outputs": [],
   "source": [
    "# Deploy the model to a prediction server\n",
    "predictionServer = dr.PredictionServer.list()[0]\n",
    "\n",
    "deployment = dr.Deployment.create_from_learning_model(\n",
    "    model_id=recommendedModel.id, \n",
    "    label='Wine Quality',\n",
    "    description='Model for scoring wine quality',\n",
    "    default_prediction_server_id=predictionServer.id\n",
    ")"
   ]
  },
  {
   "cell_type": "markdown",
   "metadata": {},
   "source": [
    "### 8.- Requesting Predictions\n",
    "\n",
    "- Request batch predictions\n",
    "- Request real-time predictions"
   ]
  },
  {
   "cell_type": "code",
   "execution_count": 31,
   "metadata": {},
   "outputs": [
    {
     "data": {
      "text/html": [
       "<div>\n",
       "<style scoped>\n",
       "    .dataframe tbody tr th:only-of-type {\n",
       "        vertical-align: middle;\n",
       "    }\n",
       "\n",
       "    .dataframe tbody tr th {\n",
       "        vertical-align: top;\n",
       "    }\n",
       "\n",
       "    .dataframe thead th {\n",
       "        text-align: right;\n",
       "    }\n",
       "</style>\n",
       "<table border=\"1\" class=\"dataframe\">\n",
       "  <thead>\n",
       "    <tr style=\"text-align: right;\">\n",
       "      <th></th>\n",
       "      <th>wine_id</th>\n",
       "      <th>fixed acidity</th>\n",
       "      <th>volatile acidity</th>\n",
       "      <th>citric acid</th>\n",
       "      <th>residual sugar</th>\n",
       "      <th>chlorides</th>\n",
       "      <th>free sulfur dioxide</th>\n",
       "      <th>total sulfur dioxide</th>\n",
       "      <th>density</th>\n",
       "      <th>pH</th>\n",
       "      <th>sulphates</th>\n",
       "      <th>alcohol</th>\n",
       "    </tr>\n",
       "  </thead>\n",
       "  <tbody>\n",
       "    <tr>\n",
       "      <th>0</th>\n",
       "      <td>100</td>\n",
       "      <td>6.1</td>\n",
       "      <td>0.32</td>\n",
       "      <td>0.28</td>\n",
       "      <td>6.6</td>\n",
       "      <td>0.021</td>\n",
       "      <td>29</td>\n",
       "      <td>132</td>\n",
       "      <td>0.99188</td>\n",
       "      <td>3.15</td>\n",
       "      <td>0.36</td>\n",
       "      <td>11.45</td>\n",
       "    </tr>\n",
       "    <tr>\n",
       "      <th>1</th>\n",
       "      <td>101</td>\n",
       "      <td>5.0</td>\n",
       "      <td>0.20</td>\n",
       "      <td>0.40</td>\n",
       "      <td>1.9</td>\n",
       "      <td>0.015</td>\n",
       "      <td>20</td>\n",
       "      <td>98</td>\n",
       "      <td>0.98970</td>\n",
       "      <td>3.37</td>\n",
       "      <td>0.55</td>\n",
       "      <td>12.05</td>\n",
       "    </tr>\n",
       "    <tr>\n",
       "      <th>2</th>\n",
       "      <td>102</td>\n",
       "      <td>6.0</td>\n",
       "      <td>0.42</td>\n",
       "      <td>0.41</td>\n",
       "      <td>12.4</td>\n",
       "      <td>0.032</td>\n",
       "      <td>50</td>\n",
       "      <td>179</td>\n",
       "      <td>0.99622</td>\n",
       "      <td>3.14</td>\n",
       "      <td>0.60</td>\n",
       "      <td>9.70</td>\n",
       "    </tr>\n",
       "    <tr>\n",
       "      <th>3</th>\n",
       "      <td>103</td>\n",
       "      <td>5.7</td>\n",
       "      <td>0.21</td>\n",
       "      <td>0.32</td>\n",
       "      <td>1.6</td>\n",
       "      <td>0.030</td>\n",
       "      <td>33</td>\n",
       "      <td>122</td>\n",
       "      <td>0.99044</td>\n",
       "      <td>3.33</td>\n",
       "      <td>0.52</td>\n",
       "      <td>11.90</td>\n",
       "    </tr>\n",
       "    <tr>\n",
       "      <th>4</th>\n",
       "      <td>104</td>\n",
       "      <td>5.6</td>\n",
       "      <td>0.20</td>\n",
       "      <td>0.36</td>\n",
       "      <td>2.5</td>\n",
       "      <td>0.048</td>\n",
       "      <td>16</td>\n",
       "      <td>125</td>\n",
       "      <td>0.99282</td>\n",
       "      <td>3.49</td>\n",
       "      <td>0.49</td>\n",
       "      <td>10.00</td>\n",
       "    </tr>\n",
       "  </tbody>\n",
       "</table>\n",
       "</div>"
      ],
      "text/plain": [
       "   wine_id  fixed acidity  volatile acidity  citric acid  residual sugar  \\\n",
       "0      100            6.1              0.32         0.28             6.6   \n",
       "1      101            5.0              0.20         0.40             1.9   \n",
       "2      102            6.0              0.42         0.41            12.4   \n",
       "3      103            5.7              0.21         0.32             1.6   \n",
       "4      104            5.6              0.20         0.36             2.5   \n",
       "\n",
       "   chlorides  free sulfur dioxide  total sulfur dioxide  density    pH  \\\n",
       "0      0.021                   29                   132  0.99188  3.15   \n",
       "1      0.015                   20                    98  0.98970  3.37   \n",
       "2      0.032                   50                   179  0.99622  3.14   \n",
       "3      0.030                   33                   122  0.99044  3.33   \n",
       "4      0.048                   16                   125  0.99282  3.49   \n",
       "\n",
       "   sulphates  alcohol  \n",
       "0       0.36    11.45  \n",
       "1       0.55    12.05  \n",
       "2       0.60     9.70  \n",
       "3       0.52    11.90  \n",
       "4       0.49    10.00  "
      ]
     },
     "execution_count": 31,
     "metadata": {},
     "output_type": "execute_result"
    }
   ],
   "source": [
    "# Check scoring data\n",
    "scoringData = pd.read_csv(score_DS_Path)\n",
    "scoringData.head()"
   ]
  },
  {
   "cell_type": "code",
   "execution_count": 32,
   "metadata": {},
   "outputs": [],
   "source": [
    "# Batch prediction using wine_id as passthrough column\n",
    "job = dr.BatchPredictionJob.score (\n",
    "    deployment=deployment.id,\n",
    "    passthrough_columns=['wine_id'],\n",
    "    intake_settings={\n",
    "        'type': 'localFile',\n",
    "        'file': score_DS_Path\n",
    "    },\n",
    "    output_settings={\n",
    "        'type': 'localFile',\n",
    "        'path': preds_DS_Path\n",
    "    }\n",
    ")"
   ]
  },
  {
   "cell_type": "code",
   "execution_count": 33,
   "metadata": {},
   "outputs": [
    {
     "data": {
      "text/html": [
       "<div>\n",
       "<style scoped>\n",
       "    .dataframe tbody tr th:only-of-type {\n",
       "        vertical-align: middle;\n",
       "    }\n",
       "\n",
       "    .dataframe tbody tr th {\n",
       "        vertical-align: top;\n",
       "    }\n",
       "\n",
       "    .dataframe thead th {\n",
       "        text-align: right;\n",
       "    }\n",
       "</style>\n",
       "<table border=\"1\" class=\"dataframe\">\n",
       "  <thead>\n",
       "    <tr style=\"text-align: right;\">\n",
       "      <th></th>\n",
       "      <th>quality_PREDICTION</th>\n",
       "      <th>wine_id</th>\n",
       "    </tr>\n",
       "  </thead>\n",
       "  <tbody>\n",
       "    <tr>\n",
       "      <th>0</th>\n",
       "      <td>6.213348</td>\n",
       "      <td>100</td>\n",
       "    </tr>\n",
       "    <tr>\n",
       "      <th>1</th>\n",
       "      <td>6.510337</td>\n",
       "      <td>101</td>\n",
       "    </tr>\n",
       "    <tr>\n",
       "      <th>2</th>\n",
       "      <td>5.695313</td>\n",
       "      <td>102</td>\n",
       "    </tr>\n",
       "    <tr>\n",
       "      <th>3</th>\n",
       "      <td>6.468334</td>\n",
       "      <td>103</td>\n",
       "    </tr>\n",
       "    <tr>\n",
       "      <th>4</th>\n",
       "      <td>5.811963</td>\n",
       "      <td>104</td>\n",
       "    </tr>\n",
       "  </tbody>\n",
       "</table>\n",
       "</div>"
      ],
      "text/plain": [
       "   quality_PREDICTION  wine_id\n",
       "0            6.213348      100\n",
       "1            6.510337      101\n",
       "2            5.695313      102\n",
       "3            6.468334      103\n",
       "4            5.811963      104"
      ]
     },
     "execution_count": 33,
     "metadata": {},
     "output_type": "execute_result"
    }
   ],
   "source": [
    "# Check prediction results\n",
    "predsData = pd.read_csv(preds_DS_Path)\n",
    "predsData.head()"
   ]
  },
  {
   "cell_type": "markdown",
   "metadata": {},
   "source": [
    "Now, let's do real-time predictions:"
   ]
  },
  {
   "cell_type": "code",
   "execution_count": 34,
   "metadata": {},
   "outputs": [
    {
     "data": {
      "text/plain": [
       "'https://mlops.dynamic.orm.datarobot.com/predApi/v1.0/deployments/6149aaa11467df1e5a4bcf0e/predictions'"
      ]
     },
     "execution_count": 34,
     "metadata": {},
     "output_type": "execute_result"
    }
   ],
   "source": [
    "# Prediction server for API Rest real-time predictions:\n",
    "predictionServer = deployment.default_prediction_server['url']\n",
    "\n",
    "predictionUrl = f'{predictionServer}/predApi/v1.0/deployments/{deployment.id}/predictions'\n",
    "predictionUrl"
   ]
  },
  {
   "cell_type": "code",
   "execution_count": 35,
   "metadata": {},
   "outputs": [],
   "source": [
    "# Data into a binary string:\n",
    "dataToScore = open(score_DS_Path, 'rb').read()"
   ]
  },
  {
   "cell_type": "code",
   "execution_count": 37,
   "metadata": {},
   "outputs": [
    {
     "data": {
      "text/plain": [
       "b'wine_id,fixed acidity,volatile acidity,citric acid,residual sugar,chlorides,free sulfur dioxide,total sulfur dioxide,density,pH,sulphates,alcohol\\n100,6.1,0.32,0.28,6.6,0.021,29,132,0.99188,3.15,0.36,11.45\\n101,5,0.2,0.4,1.9,0.015,20,98,0.9897,3.37,0.55,12.05\\n102,6,0.42,0.41,12.4,0.032,50,179,0.99622,'"
      ]
     },
     "execution_count": 37,
     "metadata": {},
     "output_type": "execute_result"
    }
   ],
   "source": [
    "dataToScore[0:300]"
   ]
  },
  {
   "cell_type": "code",
   "execution_count": 38,
   "metadata": {},
   "outputs": [],
   "source": [
    "# Setup credentials for API REST\n",
    "import yaml \n",
    "stream = open('./drconfig.yaml', 'r')\n",
    "drconfig = yaml.load(stream, Loader=yaml.Loader)\n",
    "drtoken = drconfig['token']"
   ]
  },
  {
   "cell_type": "code",
   "execution_count": 39,
   "metadata": {},
   "outputs": [],
   "source": [
    "# Build request\n",
    "import requests\n",
    "\n",
    "# construct a header for the request to include the content type (text)\n",
    "# and access token and for managed cloud and self-managed installations\n",
    "# including the prediction server key.\n",
    "predictionRequestHeaders = {\n",
    "    'Content-Type': 'text/plain; charset=UTF-8', \n",
    "    'Authorization': f'Bearer {drtoken}',\n",
    "    'datarobot-key': deployment.default_prediction_server['datarobot-key']}"
   ]
  },
  {
   "cell_type": "code",
   "execution_count": 40,
   "metadata": {},
   "outputs": [],
   "source": [
    "# Make the real-time prediction request\n",
    "\n",
    "# construct and send the request using the prediction server URL, \n",
    "# the binary string containing the data to score, and the header\n",
    "# values you set above.\n",
    "predictionsResponse = requests.post(\n",
    "        predictionUrl,\n",
    "        data=dataToScore,\n",
    "        headers=predictionRequestHeaders\n",
    ")"
   ]
  },
  {
   "cell_type": "code",
   "execution_count": 41,
   "metadata": {},
   "outputs": [
    {
     "data": {
      "text/plain": [
       "200"
      ]
     },
     "execution_count": 41,
     "metadata": {},
     "output_type": "execute_result"
    }
   ],
   "source": [
    "# Check:\n",
    "predictionsResponse.status_code"
   ]
  },
  {
   "cell_type": "code",
   "execution_count": 42,
   "metadata": {},
   "outputs": [
    {
     "data": {
      "text/plain": [
       "{'data': [{'predictionValues': [{'value': 6.213347619, 'label': 'quality'}],\n",
       "   'prediction': 6.213347619,\n",
       "   'rowId': 0},\n",
       "  {'predictionValues': [{'value': 6.5103365079, 'label': 'quality'}],\n",
       "   'prediction': 6.5103365079,\n",
       "   'rowId': 1},\n",
       "  {'predictionValues': [{'value': 5.6953134921, 'label': 'quality'}],\n",
       "   'prediction': 5.6953134921,\n",
       "   'rowId': 2},\n",
       "  {'predictionValues': [{'value': 6.468334127, 'label': 'quality'}],\n",
       "   'prediction': 6.468334127,\n",
       "   'rowId': 3},\n",
       "  {'predictionValues': [{'value': 5.8119634921, 'label': 'quality'}],\n",
       "   'prediction': 5.8119634921,\n",
       "   'rowId': 4},\n",
       "  {'predictionValues': [{'value': 5.5977793651, 'label': 'quality'}],\n",
       "   'prediction': 5.5977793651,\n",
       "   'rowId': 5},\n",
       "  {'predictionValues': [{'value': 6.5352031746, 'label': 'quality'}],\n",
       "   'prediction': 6.5352031746,\n",
       "   'rowId': 6},\n",
       "  {'predictionValues': [{'value': 4.8166571429, 'label': 'quality'}],\n",
       "   'prediction': 4.8166571429,\n",
       "   'rowId': 7},\n",
       "  {'predictionValues': [{'value': 4.6671412698, 'label': 'quality'}],\n",
       "   'prediction': 4.6671412698,\n",
       "   'rowId': 8},\n",
       "  {'predictionValues': [{'value': 5.3189920635, 'label': 'quality'}],\n",
       "   'prediction': 5.3189920635,\n",
       "   'rowId': 9}]}"
      ]
     },
     "execution_count": 42,
     "metadata": {},
     "output_type": "execute_result"
    }
   ],
   "source": [
    "# See the response:\n",
    "predictionsResponse.json()"
   ]
  },
  {
   "cell_type": "code",
   "execution_count": null,
   "metadata": {},
   "outputs": [],
   "source": []
  }
 ],
 "metadata": {
  "kernelspec": {
   "display_name": "Python 3",
   "language": "python",
   "name": "python3"
  },
  "language_info": {
   "codemirror_mode": {
    "name": "ipython",
    "version": 3
   },
   "file_extension": ".py",
   "mimetype": "text/x-python",
   "name": "python",
   "nbconvert_exporter": "python",
   "pygments_lexer": "ipython3",
   "version": "3.7.3"
  }
 },
 "nbformat": 4,
 "nbformat_minor": 2
}
