{
 "cells": [
  {
   "cell_type": "markdown",
   "metadata": {},
   "source": [
    "## DataRobot Python API Training\n",
    "\n",
    "Notebook #2 - Model Factory\n",
    "\n",
    "raul.arrabales@datarobot.com\n",
    "\n",
    "More examples of model factory implementations: [DataRobot Community Github](https://github.com/datarobot-community/tutorials-for-data-scientists/tree/master/Model%20Factories)"
   ]
  },
  {
   "cell_type": "markdown",
   "metadata": {},
   "source": [
    "### Building a Predictive Model Factory"
   ]
  },
  {
   "cell_type": "markdown",
   "metadata": {},
   "source": [
    "#### Activity Goal\n",
    "\n",
    "In this activity, you will practice building a model factory that trains models to predict the odds that a hospital patient with diabetes will be readmitted to the hospital after discharge.\n",
    "\n",
    "First you will create a single model based on the entire dataset. Then you will implement a model factory that segments the data based on the original admission type (emergency, elective, etc.) and trains different models for each segment.\n",
    "\n",
    "The data used in this activity is extracted from the original dataset [https://www.hindawi.com/journals/bmri/2014/781670/](here).\n",
    "Citation: Beata Strack, Jonathan P. DeShazo, Chris Gennings, Juan L. Olmo, Sebastian Ventura, Krzysztof J. Cios, John N. Clore, \"Impact of HbA1c Measurement on Hospital Readmission Rates: Analysis of 70,000 Clinical Database Patient Records\", BioMed Research International, vol. 2014, Article ID 781670, 11 pages, 2014. https://doi.org/10.1155/2014/781670"
   ]
  },
  {
   "cell_type": "markdown",
   "metadata": {},
   "source": [
    "**Libraries**"
   ]
  },
  {
   "cell_type": "code",
   "execution_count": 3,
   "metadata": {},
   "outputs": [
    {
     "name": "stderr",
     "output_type": "stream",
     "text": [
      "C:\\Users\\array\\Anaconda3\\lib\\site-packages\\requests\\__init__.py:91: RequestsDependencyWarning: urllib3 (1.25.11) or chardet (3.0.4) doesn't match a supported version!\n",
      "  RequestsDependencyWarning)\n",
      "C:\\Users\\array\\Anaconda3\\lib\\site-packages\\pandas\\compat\\_optional.py:138: UserWarning: Pandas requires version '2.7.0' or newer of 'numexpr' (version '2.6.9' currently installed).\n",
      "  warnings.warn(msg, UserWarning)\n"
     ]
    }
   ],
   "source": [
    "import datarobot as dr  # Requires version >2.25\n",
    "import seaborn as sns\n",
    "import pandas as pd\n",
    "import matplotlib.pyplot as plt\n",
    "import datetime\n",
    "import pickle"
   ]
  },
  {
   "cell_type": "markdown",
   "metadata": {},
   "source": [
    "**Lib Config**"
   ]
  },
  {
   "cell_type": "code",
   "execution_count": 4,
   "metadata": {},
   "outputs": [],
   "source": [
    "sns.set(style=\"whitegrid\")"
   ]
  },
  {
   "cell_type": "markdown",
   "metadata": {},
   "source": [
    "**Data Sets**"
   ]
  },
  {
   "cell_type": "code",
   "execution_count": 5,
   "metadata": {},
   "outputs": [
    {
     "data": {
      "text/html": [
       "<div>\n",
       "<style scoped>\n",
       "    .dataframe tbody tr th:only-of-type {\n",
       "        vertical-align: middle;\n",
       "    }\n",
       "\n",
       "    .dataframe tbody tr th {\n",
       "        vertical-align: top;\n",
       "    }\n",
       "\n",
       "    .dataframe thead th {\n",
       "        text-align: right;\n",
       "    }\n",
       "</style>\n",
       "<table border=\"1\" class=\"dataframe\">\n",
       "  <thead>\n",
       "    <tr style=\"text-align: right;\">\n",
       "      <th></th>\n",
       "      <th>race</th>\n",
       "      <th>gender</th>\n",
       "      <th>age</th>\n",
       "      <th>weight</th>\n",
       "      <th>admission_type_id</th>\n",
       "      <th>discharge_disposition_id</th>\n",
       "      <th>admission_source_id</th>\n",
       "      <th>time_in_hospital</th>\n",
       "      <th>payer_code</th>\n",
       "      <th>medical_specialty</th>\n",
       "      <th>...</th>\n",
       "      <th>glipizide.metformin</th>\n",
       "      <th>glimepiride.pioglitazone</th>\n",
       "      <th>metformin.rosiglitazone</th>\n",
       "      <th>metformin.pioglitazone</th>\n",
       "      <th>change</th>\n",
       "      <th>diabetesMed</th>\n",
       "      <th>readmitted</th>\n",
       "      <th>diag_1_desc</th>\n",
       "      <th>diag_2_desc</th>\n",
       "      <th>diag_3_desc</th>\n",
       "    </tr>\n",
       "  </thead>\n",
       "  <tbody>\n",
       "    <tr>\n",
       "      <th>0</th>\n",
       "      <td>Caucasian</td>\n",
       "      <td>Female</td>\n",
       "      <td>[50-60)</td>\n",
       "      <td>?</td>\n",
       "      <td>Elective</td>\n",
       "      <td>Discharged to home</td>\n",
       "      <td>Physician Referral</td>\n",
       "      <td>1</td>\n",
       "      <td>CP</td>\n",
       "      <td>Surgery-Neuro</td>\n",
       "      <td>...</td>\n",
       "      <td>No</td>\n",
       "      <td>No</td>\n",
       "      <td>No</td>\n",
       "      <td>No</td>\n",
       "      <td>No</td>\n",
       "      <td>No</td>\n",
       "      <td>False</td>\n",
       "      <td>Spinal stenosis in cervical region</td>\n",
       "      <td>Spinal stenosis in cervical region</td>\n",
       "      <td>Effusion of joint, site unspecified</td>\n",
       "    </tr>\n",
       "    <tr>\n",
       "      <th>1</th>\n",
       "      <td>Caucasian</td>\n",
       "      <td>Female</td>\n",
       "      <td>[20-30)</td>\n",
       "      <td>[50-75)</td>\n",
       "      <td>Urgent</td>\n",
       "      <td>Discharged to home</td>\n",
       "      <td>Physician Referral</td>\n",
       "      <td>2</td>\n",
       "      <td>UN</td>\n",
       "      <td>?</td>\n",
       "      <td>...</td>\n",
       "      <td>No</td>\n",
       "      <td>No</td>\n",
       "      <td>No</td>\n",
       "      <td>No</td>\n",
       "      <td>No</td>\n",
       "      <td>No</td>\n",
       "      <td>False</td>\n",
       "      <td>First-degree perineal laceration, unspecified ...</td>\n",
       "      <td>Diabetes mellitus of mother, complicating preg...</td>\n",
       "      <td>Sideroblastic anemia</td>\n",
       "    </tr>\n",
       "    <tr>\n",
       "      <th>2</th>\n",
       "      <td>Caucasian</td>\n",
       "      <td>Male</td>\n",
       "      <td>[80-90)</td>\n",
       "      <td>?</td>\n",
       "      <td>Not Available</td>\n",
       "      <td>Discharged/transferred to home with home healt...</td>\n",
       "      <td>NaN</td>\n",
       "      <td>7</td>\n",
       "      <td>MC</td>\n",
       "      <td>Family/GeneralPractice</td>\n",
       "      <td>...</td>\n",
       "      <td>No</td>\n",
       "      <td>No</td>\n",
       "      <td>No</td>\n",
       "      <td>No</td>\n",
       "      <td>No</td>\n",
       "      <td>Yes</td>\n",
       "      <td>True</td>\n",
       "      <td>Pneumococcal pneumonia [Streptococcus pneumoni...</td>\n",
       "      <td>Congestive heart failure, unspecified</td>\n",
       "      <td>Hyperosmolality and/or hypernatremia</td>\n",
       "    </tr>\n",
       "    <tr>\n",
       "      <th>3</th>\n",
       "      <td>AfricanAmerican</td>\n",
       "      <td>Female</td>\n",
       "      <td>[50-60)</td>\n",
       "      <td>?</td>\n",
       "      <td>Emergency</td>\n",
       "      <td>Discharged to home</td>\n",
       "      <td>Transfer from another health care facility</td>\n",
       "      <td>4</td>\n",
       "      <td>UN</td>\n",
       "      <td>?</td>\n",
       "      <td>...</td>\n",
       "      <td>No</td>\n",
       "      <td>No</td>\n",
       "      <td>No</td>\n",
       "      <td>No</td>\n",
       "      <td>No</td>\n",
       "      <td>Yes</td>\n",
       "      <td>False</td>\n",
       "      <td>Cellulitis and abscess of face</td>\n",
       "      <td>Streptococcus infection in conditions classifi...</td>\n",
       "      <td>Diabetes mellitus without mention of complicat...</td>\n",
       "    </tr>\n",
       "    <tr>\n",
       "      <th>4</th>\n",
       "      <td>AfricanAmerican</td>\n",
       "      <td>Female</td>\n",
       "      <td>[50-60)</td>\n",
       "      <td>?</td>\n",
       "      <td>Emergency</td>\n",
       "      <td>Discharged to home</td>\n",
       "      <td>Emergency Room</td>\n",
       "      <td>5</td>\n",
       "      <td>?</td>\n",
       "      <td>Psychiatry</td>\n",
       "      <td>...</td>\n",
       "      <td>No</td>\n",
       "      <td>No</td>\n",
       "      <td>No</td>\n",
       "      <td>No</td>\n",
       "      <td>Ch</td>\n",
       "      <td>Yes</td>\n",
       "      <td>False</td>\n",
       "      <td>Bipolar I disorder, single manic episode, unsp...</td>\n",
       "      <td>Diabetes mellitus without mention of complicat...</td>\n",
       "      <td>Depressive type psychosis</td>\n",
       "    </tr>\n",
       "  </tbody>\n",
       "</table>\n",
       "<p>5 rows × 51 columns</p>\n",
       "</div>"
      ],
      "text/plain": [
       "              race  gender      age   weight admission_type_id  \\\n",
       "0        Caucasian  Female  [50-60)        ?          Elective   \n",
       "1        Caucasian  Female  [20-30)  [50-75)            Urgent   \n",
       "2        Caucasian    Male  [80-90)        ?     Not Available   \n",
       "3  AfricanAmerican  Female  [50-60)        ?         Emergency   \n",
       "4  AfricanAmerican  Female  [50-60)        ?         Emergency   \n",
       "\n",
       "                            discharge_disposition_id  \\\n",
       "0                                 Discharged to home   \n",
       "1                                 Discharged to home   \n",
       "2  Discharged/transferred to home with home healt...   \n",
       "3                                 Discharged to home   \n",
       "4                                 Discharged to home   \n",
       "\n",
       "                          admission_source_id  time_in_hospital payer_code  \\\n",
       "0                          Physician Referral                 1         CP   \n",
       "1                          Physician Referral                 2         UN   \n",
       "2                                         NaN                 7         MC   \n",
       "3  Transfer from another health care facility                 4         UN   \n",
       "4                              Emergency Room                 5          ?   \n",
       "\n",
       "        medical_specialty  ...  glipizide.metformin  glimepiride.pioglitazone  \\\n",
       "0           Surgery-Neuro  ...                   No                        No   \n",
       "1                       ?  ...                   No                        No   \n",
       "2  Family/GeneralPractice  ...                   No                        No   \n",
       "3                       ?  ...                   No                        No   \n",
       "4              Psychiatry  ...                   No                        No   \n",
       "\n",
       "   metformin.rosiglitazone  metformin.pioglitazone  change  diabetesMed  \\\n",
       "0                       No                      No      No           No   \n",
       "1                       No                      No      No           No   \n",
       "2                       No                      No      No          Yes   \n",
       "3                       No                      No      No          Yes   \n",
       "4                       No                      No      Ch          Yes   \n",
       "\n",
       "  readmitted                                        diag_1_desc  \\\n",
       "0      False                 Spinal stenosis in cervical region   \n",
       "1      False  First-degree perineal laceration, unspecified ...   \n",
       "2       True  Pneumococcal pneumonia [Streptococcus pneumoni...   \n",
       "3      False                     Cellulitis and abscess of face   \n",
       "4      False  Bipolar I disorder, single manic episode, unsp...   \n",
       "\n",
       "                                         diag_2_desc  \\\n",
       "0                 Spinal stenosis in cervical region   \n",
       "1  Diabetes mellitus of mother, complicating preg...   \n",
       "2              Congestive heart failure, unspecified   \n",
       "3  Streptococcus infection in conditions classifi...   \n",
       "4  Diabetes mellitus without mention of complicat...   \n",
       "\n",
       "                                         diag_3_desc  \n",
       "0                Effusion of joint, site unspecified  \n",
       "1                               Sideroblastic anemia  \n",
       "2               Hyperosmolality and/or hypernatremia  \n",
       "3  Diabetes mellitus without mention of complicat...  \n",
       "4                          Depressive type psychosis  \n",
       "\n",
       "[5 rows x 51 columns]"
      ]
     },
     "execution_count": 5,
     "metadata": {},
     "output_type": "execute_result"
    }
   ],
   "source": [
    "# url_to_data = \"https://s3.amazonaws.com/datarobot_public_datasets/10k_diabetes.csv\" \n",
    "# url_to_scoring_data = 'https://s3.amazonaws.com/datarobot_public_datasets/10k_diabetes_scoring.csv'\n",
    "training_data = pd.read_csv('implementing-model-factories-211013\\\\10k_diabetes.csv')\n",
    "training_data.head()"
   ]
  },
  {
   "cell_type": "markdown",
   "metadata": {},
   "source": [
    "**Connect to DataRobot**"
   ]
  },
  {
   "cell_type": "code",
   "execution_count": 6,
   "metadata": {},
   "outputs": [
    {
     "data": {
      "text/plain": [
       "<datarobot.rest.RESTClientObject at 0x2676cc29ef0>"
      ]
     },
     "execution_count": 6,
     "metadata": {},
     "output_type": "execute_result"
    }
   ],
   "source": [
    "credentials_File = 'drconfig.yaml'\n",
    "\n",
    "dr.Client(config_path=credentials_File)"
   ]
  },
  {
   "cell_type": "markdown",
   "metadata": {},
   "source": [
    "#### Define Plotting Functions\n",
    "These functions will be used to plot the ROC curve and Feature Impact to compare generated models."
   ]
  },
  {
   "cell_type": "code",
   "execution_count": 7,
   "metadata": {},
   "outputs": [],
   "source": [
    "def plot_roc_curve(datarobot_model):\n",
    "    \"\"\"This function plots a roc curve.\n",
    "    Input:\n",
    "        datarobot_model: <Datarobot Model object>\n",
    "    \"\"\"\n",
    "    roc = datarobot_model.get_roc_curve('crossValidation')\n",
    "    roc_df = pd.DataFrame(roc.roc_points)\n",
    "    auc_score = datarobot_model.metrics['AUC']['crossValidation']\n",
    "    plt.plot(roc_df['false_positive_rate'], roc_df['true_positive_rate'], 'b', label = 'AUC = %0.2f' %auc_score)\n",
    "    plt.legend(loc = 'lower right')\n",
    "    plt.plot([0, 1], [0, 1],'r--')\n",
    "    plt.xlim([0, 1])\n",
    "    plt.ylim([0, 1])\n",
    "    plt.ylabel('True Positive Rate')\n",
    "    plt.xlabel('False Positive Rate')\n",
    "    plt.show()\n",
    "\n",
    "def plot_feature_impact(datarobot_model, title=None):\n",
    "    \"\"\"This function plots feature impact\n",
    "    Input:\n",
    "        datarobot_model: <Datarobot Model object>\n",
    "        title : <string> --> title of graph\n",
    "    \"\"\"\n",
    "    # Get feature impact\n",
    "    feature_impacts = datarobot_model.get_or_request_feature_impact()\n",
    "\n",
    "    # Sort feature impact based on normalised impact\n",
    "    feature_impacts.sort(key=lambda x: x['impactNormalized'], reverse=True)\n",
    "\n",
    "    fi_df = pd.DataFrame(feature_impacts) #Save feature impact in pandas dataframe\n",
    "    fig, ax = plt.subplots(figsize=(14,5))\n",
    "    b = sns.barplot(x=\"featureName\", y=\"impactNormalized\", data=fi_df[0:5], color=\"b\")\n",
    "    b.axes.set_title('Feature Impact' if not title else title,fontsize=20)"
   ]
  },
  {
   "cell_type": "markdown",
   "metadata": {},
   "source": [
    "#### Train a single model based on the entire dataset"
   ]
  },
  {
   "cell_type": "markdown",
   "metadata": {},
   "source": [
    "##### Start a project based on the full readmission dataset"
   ]
  },
  {
   "cell_type": "code",
   "execution_count": 8,
   "metadata": {},
   "outputs": [
    {
     "name": "stdout",
     "output_type": "stream",
     "text": [
      "In progress: 12, queued: 0 (waited: 0s)\n",
      "In progress: 12, queued: 0 (waited: 1s)\n",
      "In progress: 12, queued: 0 (waited: 2s)\n",
      "In progress: 12, queued: 0 (waited: 3s)\n",
      "In progress: 12, queued: 0 (waited: 4s)\n",
      "In progress: 12, queued: 0 (waited: 6s)\n",
      "In progress: 12, queued: 0 (waited: 10s)\n",
      "In progress: 12, queued: 0 (waited: 17s)\n",
      "In progress: 12, queued: 0 (waited: 31s)\n",
      "In progress: 12, queued: 0 (waited: 51s)\n",
      "In progress: 3, queued: 0 (waited: 73s)\n",
      "In progress: 1, queued: 0 (waited: 93s)\n",
      "In progress: 7, queued: 0 (waited: 114s)\n",
      "In progress: 7, queued: 0 (waited: 134s)\n",
      "In progress: 5, queued: 0 (waited: 155s)\n",
      "In progress: 2, queued: 0 (waited: 176s)\n",
      "In progress: 16, queued: 0 (waited: 196s)\n",
      "In progress: 14, queued: 0 (waited: 217s)\n",
      "In progress: 3, queued: 0 (waited: 238s)\n",
      "In progress: 0, queued: 0 (waited: 258s)\n",
      "In progress: 0, queued: 0 (waited: 279s)\n",
      "In progress: 0, queued: 0 (waited: 299s)\n",
      "In progress: 5, queued: 0 (waited: 320s)\n",
      "In progress: 5, queued: 0 (waited: 340s)\n",
      "In progress: 1, queued: 0 (waited: 362s)\n",
      "In progress: 1, queued: 0 (waited: 382s)\n",
      "In progress: 1, queued: 0 (waited: 403s)\n",
      "In progress: 0, queued: 0 (waited: 424s)\n",
      "In progress: 3, queued: 1 (waited: 445s)\n",
      "In progress: 3, queued: 1 (waited: 465s)\n",
      "In progress: 1, queued: 0 (waited: 486s)\n",
      "In progress: 1, queued: 0 (waited: 506s)\n",
      "In progress: 1, queued: 0 (waited: 527s)\n",
      "In progress: 1, queued: 0 (waited: 547s)\n",
      "In progress: 3, queued: 1 (waited: 568s)\n",
      "In progress: 3, queued: 1 (waited: 588s)\n",
      "In progress: 3, queued: 1 (waited: 609s)\n",
      "In progress: 1, queued: 0 (waited: 629s)\n",
      "In progress: 1, queued: 0 (waited: 650s)\n",
      "In progress: 1, queued: 0 (waited: 671s)\n",
      "In progress: 1, queued: 0 (waited: 691s)\n",
      "In progress: 4, queued: 1 (waited: 712s)\n",
      "In progress: 4, queued: 1 (waited: 733s)\n",
      "In progress: 3, queued: 1 (waited: 754s)\n",
      "In progress: 2, queued: 0 (waited: 774s)\n",
      "In progress: 1, queued: 0 (waited: 795s)\n",
      "In progress: 1, queued: 0 (waited: 815s)\n",
      "In progress: 0, queued: 0 (waited: 836s)\n",
      "In progress: 0, queued: 0 (waited: 856s)\n",
      "In progress: 0, queued: 0 (waited: 877s)\n",
      "In progress: 0, queued: 0 (waited: 897s)\n"
     ]
    }
   ],
   "source": [
    "full_dataset_project_name = f'Readmission_{datetime.datetime.now()}'                 \n",
    "\n",
    "full_dataset_project = dr.Project.create(training_data,                    \n",
    "                                project_name=full_dataset_project_name)\n",
    "\n",
    "full_dataset_project.set_target(target='readmitted', worker_count=-1)                     \n",
    "\n",
    "# Wait for autopilot to finish (this can take quite a long time)\n",
    "log = full_dataset_project.wait_for_autopilot() "
   ]
  },
  {
   "cell_type": "markdown",
   "metadata": {},
   "source": [
    "#### Review recommended model"
   ]
  },
  {
   "cell_type": "code",
   "execution_count": 9,
   "metadata": {},
   "outputs": [
    {
     "name": "stdout",
     "output_type": "stream",
     "text": [
      "Model('Light Gradient Boosted Trees Classifier with Early Stopping')\n",
      "0.60455\n"
     ]
    }
   ],
   "source": [
    "recommended_model = full_dataset_project.recommended_model()\n",
    "\n",
    "print(recommended_model) \n",
    "print(recommended_model.metrics['LogLoss']['crossValidation']) # Print crossValidation score"
   ]
  },
  {
   "cell_type": "markdown",
   "metadata": {},
   "source": [
    "##### Visualize the ROC Curve and Feature Impact"
   ]
  },
  {
   "cell_type": "code",
   "execution_count": 10,
   "metadata": {},
   "outputs": [
    {
     "data": {
      "image/png": "[encoded data removed]",
      "text/plain": [
       "<Figure size 432x288 with 1 Axes>"
      ]
     },
     "metadata": {},
     "output_type": "display_data"
    }
   ],
   "source": [
    "plot_roc_curve(recommended_model)"
   ]
  },
  {
   "cell_type": "code",
   "execution_count": 11,
   "metadata": {},
   "outputs": [
    {
     "data": {
      "image/png": "[encoded data removed]",
      "text/plain": [
       "<Figure size 1008x360 with 1 Axes>"
      ]
     },
     "metadata": {},
     "output_type": "display_data"
    }
   ],
   "source": [
    "plot_feature_impact(recommended_model)"
   ]
  },
  {
   "cell_type": "markdown",
   "metadata": {},
   "source": [
    "#### Create a Model Factory for segmented modeling\n",
    "\n",
    "Admission type can be used as a segmentation key in order to create multiple projects. Using a Model Factory to generate the projects will allow you to compare the segmented models to the full-dataset model to see if it improves accuracy. "
   ]
  },
  {
   "cell_type": "markdown",
   "metadata": {},
   "source": [
    "##### Train a model for each admission type"
   ]
  },
  {
   "cell_type": "code",
   "execution_count": 12,
   "metadata": {},
   "outputs": [
    {
     "name": "stdout",
     "output_type": "stream",
     "text": [
      "Starting project Readmission_Elective_2022-04-28 17:25:53.796666\n",
      "Starting project Readmission_Urgent_2022-04-28 17:28:05.728237\n",
      "Starting project Readmission_Not Available_2022-04-28 17:30:08.448157\n",
      "Starting project Readmission_Emergency_2022-04-28 17:32:04.608074\n",
      "Starting project Readmission_nan_2022-04-28 17:34:06.840564\n",
      "Starting project Readmission_Not Mapped_2022-04-28 17:34:33.698451\n",
      "Starting project Readmission_Newborn_2022-04-28 17:35:23.676452\n"
     ]
    }
   ],
   "source": [
    "# Dictionary to save projects by admission type\n",
    "\n",
    "projects = {} \n",
    "\n",
    "# Loop through all of the admission types in the dataset\n",
    "# Start a project for each\n",
    "\n",
    "admission_types = training_data.admission_type_id.unique()\n",
    "\n",
    "for admission_type in admission_types:\n",
    "    \n",
    "    # define project name based on admission date and current timestamp\n",
    "    project_name = f'Readmission_{admission_type}_{datetime.datetime.now()}'\n",
    "\n",
    "    print(f'Starting project {project_name}')\n",
    "    try:\n",
    "        # select rows in the dataframe with the current admission type\n",
    "        data_by_admission_type = training_data.loc[training_data['admission_type_id'] == admission_type]\n",
    "        data_by_admission_type.head()\n",
    "        # start a project \n",
    "        temp_project = dr.Project.create(data_by_admission_type,\n",
    "                                        project_name = project_name)\n",
    "        temp_project.set_target(target = 'readmitted', worker_count = -1)\n",
    "        projects[admission_type] = temp_project\n",
    "    except: # Catch the case where dataset has fewer than 20 rows.\n",
    "        pass"
   ]
  },
  {
   "cell_type": "code",
   "execution_count": 13,
   "metadata": {},
   "outputs": [
    {
     "name": "stdout",
     "output_type": "stream",
     "text": [
      "In progress: 1, queued: 0 (waited: 0s)\n",
      "In progress: 1, queued: 0 (waited: 1s)\n",
      "In progress: 1, queued: 0 (waited: 2s)\n",
      "In progress: 1, queued: 0 (waited: 2s)\n",
      "In progress: 1, queued: 0 (waited: 4s)\n",
      "In progress: 1, queued: 0 (waited: 6s)\n",
      "In progress: 1, queued: 0 (waited: 10s)\n",
      "In progress: 1, queued: 0 (waited: 17s)\n",
      "In progress: 1, queued: 0 (waited: 30s)\n",
      "In progress: 1, queued: 0 (waited: 51s)\n",
      "In progress: 1, queued: 0 (waited: 71s)\n",
      "In progress: 0, queued: 0 (waited: 92s)\n",
      "In progress: 0, queued: 0 (waited: 112s)\n",
      "In progress: 0, queued: 0 (waited: 133s)\n",
      "In progress: 0, queued: 0 (waited: 154s)\n",
      "In progress: 0, queued: 0 (waited: 174s)\n",
      "In progress: 1, queued: 0 (waited: 0s)\n",
      "In progress: 1, queued: 0 (waited: 1s)\n",
      "In progress: 1, queued: 0 (waited: 1s)\n",
      "In progress: 1, queued: 0 (waited: 2s)\n",
      "In progress: 1, queued: 0 (waited: 4s)\n",
      "In progress: 1, queued: 0 (waited: 6s)\n",
      "In progress: 1, queued: 0 (waited: 10s)\n",
      "In progress: 1, queued: 0 (waited: 17s)\n",
      "In progress: 1, queued: 0 (waited: 31s)\n",
      "In progress: 1, queued: 0 (waited: 51s)\n",
      "In progress: 1, queued: 0 (waited: 72s)\n",
      "In progress: 1, queued: 0 (waited: 93s)\n",
      "In progress: 1, queued: 0 (waited: 113s)\n",
      "In progress: 1, queued: 0 (waited: 134s)\n",
      "In progress: 0, queued: 0 (waited: 154s)\n",
      "In progress: 0, queued: 0 (waited: 175s)\n",
      "In progress: 0, queued: 0 (waited: 195s)\n",
      "In progress: 0, queued: 0 (waited: 216s)\n",
      "In progress: 0, queued: 0 (waited: 0s)\n",
      "In progress: 1, queued: 0 (waited: 0s)\n",
      "In progress: 1, queued: 0 (waited: 1s)\n",
      "In progress: 1, queued: 0 (waited: 1s)\n",
      "In progress: 1, queued: 0 (waited: 2s)\n",
      "In progress: 1, queued: 0 (waited: 4s)\n",
      "In progress: 1, queued: 0 (waited: 6s)\n",
      "In progress: 0, queued: 0 (waited: 9s)\n",
      "In progress: 1, queued: 0 (waited: 16s)\n",
      "In progress: 1, queued: 0 (waited: 29s)\n",
      "In progress: 1, queued: 0 (waited: 50s)\n",
      "In progress: 1, queued: 0 (waited: 71s)\n",
      "In progress: 1, queued: 0 (waited: 91s)\n",
      "In progress: 3, queued: 0 (waited: 112s)\n",
      "In progress: 3, queued: 0 (waited: 133s)\n",
      "In progress: 3, queued: 0 (waited: 155s)\n",
      "In progress: 3, queued: 0 (waited: 176s)\n",
      "In progress: 0, queued: 0 (waited: 197s)\n",
      "In progress: 0, queued: 0 (waited: 218s)\n",
      "In progress: 0, queued: 0 (waited: 238s)\n",
      "In progress: 0, queued: 0 (waited: 259s)\n"
     ]
    }
   ],
   "source": [
    "# Wait for all models to complete\n",
    "for admission_type in projects:\n",
    "     log = projects[admission_type].wait_for_autopilot()"
   ]
  },
  {
   "cell_type": "code",
   "execution_count": 14,
   "metadata": {},
   "outputs": [
    {
     "data": {
      "text/plain": [
       "{'Elective': Project(Readmission_Elective_2022-04-28 17:25:53.796666),\n",
       " 'Urgent': Project(Readmission_Urgent_2022-04-28 17:28:05.728237),\n",
       " 'Not Available': Project(Readmission_Not Available_2022-04-28 17:30:08.448157),\n",
       " 'Emergency': Project(Readmission_Emergency_2022-04-28 17:32:04.608074)}"
      ]
     },
     "execution_count": 14,
     "metadata": {},
     "output_type": "execute_result"
    }
   ],
   "source": [
    "# For convenience, save project info\n",
    "pickle.dump(projects, open(\"save_readmission_projects.pickle\", \"wb\" ) )\n",
    "\n",
    "# You can use the saved dictionary later to reload the projects and models if you\n",
    "# restart your notebook.\n",
    "# projects = pickle.load(open(\"save_readmission_projects.pickle\", \"rb\" ) )\n",
    "projects"
   ]
  },
  {
   "cell_type": "markdown",
   "metadata": {},
   "source": [
    "##### Show the recommended model for each admission category\n",
    "Compare the cross validation scores for the segmented models to the score for the full dataset model you displayed earlier."
   ]
  },
  {
   "cell_type": "code",
   "execution_count": 15,
   "metadata": {},
   "outputs": [
    {
     "name": "stdout",
     "output_type": "stream",
     "text": [
      "--------------------------------\n",
      "Recommended model for admission type id: Elective\n",
      "Model('Elastic-Net Classifier (L2 / Binomial Deviance)')\n",
      "Cross validation: 0.6216019999999999\n",
      "--------------------------------\n",
      "--------------------------------\n",
      "Recommended model for admission type id: Urgent\n",
      "Model('eXtreme Gradient Boosted Trees Classifier')\n",
      "Cross validation: 0.594056\n",
      "--------------------------------\n",
      "--------------------------------\n",
      "Recommended model for admission type id: Not Available\n",
      "Model('Elastic-Net Classifier (L2 / Binomial Deviance)')\n",
      "Cross validation: 0.611394\n",
      "--------------------------------\n",
      "--------------------------------\n",
      "Recommended model for admission type id: Emergency\n",
      "Model('Generalized Additive2 Model')\n",
      "Cross validation: 0.620636\n",
      "--------------------------------\n"
     ]
    }
   ],
   "source": [
    "recommended_models = {}\n",
    "\n",
    "for admission_type, project in projects.items():\n",
    "    recommended_model = project.recommended_model()\n",
    "    recommended_models[admission_type] = recommended_model\n",
    "    print('--------------------------------')\n",
    "    print(f'Recommended model for admission type id: {admission_type}')\n",
    "    print(recommended_model)\n",
    "    print(f\"Cross validation: {recommended_model.metrics['LogLoss']['crossValidation']}\")\n",
    "    print('--------------------------------')"
   ]
  },
  {
   "cell_type": "markdown",
   "metadata": {},
   "source": [
    "##### Compare feature impact for admission types"
   ]
  },
  {
   "cell_type": "code",
   "execution_count": 16,
   "metadata": {},
   "outputs": [
    {
     "data": {
      "image/png": "[encoded data removed]",
      "text/plain": [
       "<Figure size 1008x360 with 1 Axes>"
      ]
     },
     "metadata": {},
     "output_type": "display_data"
    },
    {
     "data": {
      "image/png": "[encoded data removed]",
      "text/plain": [
       "<Figure size 1008x360 with 1 Axes>"
      ]
     },
     "metadata": {},
     "output_type": "display_data"
    },
    {
     "data": {
      "image/png": "[encoded data removed]",
      "text/plain": [
       "<Figure size 1008x360 with 1 Axes>"
      ]
     },
     "metadata": {},
     "output_type": "display_data"
    },
    {
     "data": {
      "image/png": "[encoded data removed]",
      "text/plain": [
       "<Figure size 1008x360 with 1 Axes>"
      ]
     },
     "metadata": {},
     "output_type": "display_data"
    }
   ],
   "source": [
    "for admission_type in projects:\n",
    "    plot_feature_impact(recommended_models[admission_type], title ='Feature Impact for admission type id: %s' %admission_type)"
   ]
  },
  {
   "cell_type": "markdown",
   "metadata": {},
   "source": [
    "#### Deploying the models\n",
    "Deploy the models so that you can test making segmented prediction requests.\n",
    "\n",
    "Note that you should not pass the `default_prediction_server_id` if you are using a trial or pay-as-you-go account."
   ]
  },
  {
   "cell_type": "code",
   "execution_count": 17,
   "metadata": {},
   "outputs": [],
   "source": [
    "deployments={}\n",
    "\n",
    "prediction_server = dr.PredictionServer.list()[0] # comment out if using trial or pay-as-you-go\n",
    "\n",
    "for admission_type in recommended_models:\n",
    "    deployments[admission_type] = dr.Deployment.create_from_learning_model(\n",
    "                                    recommended_models[admission_type].id, \n",
    "                                    label='Readmissions_admission_type: %s' %admission_type,\n",
    "                                    description='Test deployment',\n",
    "                                    default_prediction_server_id=prediction_server.id # comment out if using trial or pay-as-you-go\n",
    "                                  )\n"
   ]
  },
  {
   "cell_type": "code",
   "execution_count": 18,
   "metadata": {},
   "outputs": [],
   "source": [
    "# For convenience, save deployment info\n",
    "pickle.dump(deployments, open(\"save_readmission_deployments.pickle\", \"wb\" ) )\n",
    "\n",
    "# You can use the saved dictionary later to reload the deployment IDs if you\n",
    "# restart your notebook.\n",
    "# deployments = pickle.load(open(\"save_readmission_deployments.pickle\", \"rb\" ) )"
   ]
  },
  {
   "cell_type": "markdown",
   "metadata": {},
   "source": [
    "#### Request predictions\n",
    "\n",
    "Direct prediction requests to the correct model deployment based on admission type ID."
   ]
  },
  {
   "cell_type": "code",
   "execution_count": 19,
   "metadata": {},
   "outputs": [
    {
     "name": "stdout",
     "output_type": "stream",
     "text": [
      "Scoring Emergency to readmission-predictions-Emergency.csv\n",
      "Scoring Urgent to readmission-predictions-Urgent.csv\n",
      "Scoring Elective to readmission-predictions-Elective.csv\n",
      "Emergency complete\n",
      "Urgent complete\n",
      "Elective complete\n"
     ]
    }
   ],
   "source": [
    "# load data to score\n",
    "test_data = pd.read_csv('implementing-model-factories-211013\\\\readmission-scoring.csv')\n",
    "\n",
    "# Save batch prediction job info\n",
    "jobs={}\n",
    "\n",
    "# Get a list of admission types in the scoring dataset\n",
    "admission_types = test_data.admission_type_id.unique()\n",
    "\n",
    "for admission_type in admission_types:\n",
    "\n",
    "    # create DataFrame for just current admission type data\n",
    "    test_data_by_admission_type = test_data.loc[test_data['admission_type_id'] == admission_type]\n",
    "          \n",
    "    # Start a batch prediction job for the current admission type segment of data \n",
    "    output_file = f\"readmission-predictions-{admission_type}.csv\"\n",
    "    print(f'Scoring {admission_type} to {output_file}')\n",
    "\n",
    "    job = dr.BatchPredictionJob.score (\n",
    "        deployment=deployments[admission_type].id,\n",
    "        passthrough_columns=['id'],\n",
    "        intake_settings={\n",
    "           'type': 'localFile',\n",
    "           'file': test_data_by_admission_type,\n",
    "        },\n",
    "        output_settings={\n",
    "            'type': 'localFile',\n",
    "            'path': output_file\n",
    "        }\n",
    "    )\n",
    "    jobs[admission_type] = job\n",
    "    \n",
    "for admission_type,job in jobs.items():\n",
    "    job.wait_for_completion()\n",
    "    print(f'{admission_type} complete')"
   ]
  },
  {
   "cell_type": "code",
   "execution_count": null,
   "metadata": {},
   "outputs": [],
   "source": []
  }
 ],
 "metadata": {
  "kernelspec": {
   "display_name": "Python 3",
   "language": "python",
   "name": "python3"
  },
  "language_info": {
   "codemirror_mode": {
    "name": "ipython",
    "version": 3
   },
   "file_extension": ".py",
   "mimetype": "text/x-python",
   "name": "python",
   "nbconvert_exporter": "python",
   "pygments_lexer": "ipython3",
   "version": "3.7.3"
  }
 },
 "nbformat": 4,
 "nbformat_minor": 2
}
