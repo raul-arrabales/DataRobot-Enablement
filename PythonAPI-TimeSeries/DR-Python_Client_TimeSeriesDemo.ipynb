{
 "cells": [
  {
   "cell_type": "markdown",
   "metadata": {},
   "source": [
    "# Automated Time Series Modeling\n",
    "## with DataRobot Python API\n",
    "\n",
    "<pre>raul.arrabales@datarobot.com</pre>\n",
    "\n",
    "<img src=\"https://www.datarobot.com/wp-content/uploads/2019/10/Automated-Time-Series.jpg\" width=400>\n",
    "\n",
    "<hr>\n",
    "\n",
    "- See https://datarobot-public-api-client.readthedocs-hosted.com/en/v2.25.1/setup/getting_started.html#installation\n",
    "\n",
    "Additionally: \n",
    "\n",
    "- API Client Documentation: https://datarobot-public-api-client.readthedocs-hosted.com/en/v2.26.0/ \n",
    "- API Reference: https://datarobot-public-api-client.readthedocs-hosted.com/en/v2.25.1/autodoc/api_reference.html\n",
    "- Time Series Modeling Example: https://datarobot-public-api-client.readthedocs-hosted.com/en/v2.14.0/examples/time_series/Time_Series_Modeling.html "
   ]
  },
  {
   "cell_type": "markdown",
   "metadata": {},
   "source": [
    "### Imports"
   ]
  },
  {
   "cell_type": "code",
   "execution_count": 8,
   "metadata": {},
   "outputs": [],
   "source": [
    "from datetime import date\n",
    "from datetime import datetime\n",
    "import pandas as pd\n",
    "\n",
    "import datarobot as dr"
   ]
  },
  {
   "cell_type": "markdown",
   "metadata": {},
   "source": [
    "### Interactive shell"
   ]
  },
  {
   "cell_type": "code",
   "execution_count": 1,
   "metadata": {},
   "outputs": [],
   "source": [
    "# Set interactive shell in Jupyter\n",
    "from IPython.core.interactiveshell import InteractiveShell\n",
    "InteractiveShell.ast_node_interactivity = \"all\""
   ]
  },
  {
   "cell_type": "markdown",
   "metadata": {},
   "source": [
    "### DataRobot Python Client"
   ]
  },
  {
   "cell_type": "code",
   "execution_count": 3,
   "metadata": {},
   "outputs": [
    {
     "data": {
      "text/plain": [
       "<datarobot.rest.RESTClientObject at 0x19114876d30>"
      ]
     },
     "execution_count": 3,
     "metadata": {},
     "output_type": "execute_result"
    }
   ],
   "source": [
    "# Create and configure the client\n",
    "dr.Client(config_path = 'drconfig.yaml')"
   ]
  },
  {
   "cell_type": "markdown",
   "metadata": {},
   "source": [
    "### Create the Time Series Project"
   ]
  },
  {
   "cell_type": "code",
   "execution_count": 9,
   "metadata": {},
   "outputs": [
    {
     "name": "stdout",
     "output_type": "stream",
     "text": [
      "Project ID: 6192a87a11ec111ba3ad3a9f\n"
     ]
    }
   ],
   "source": [
    "filename = 'D:\\Dropbox-Array2001\\Dropbox\\DataSets\\DataRobot\\TimeSeries\\DR_Demo_Sales_Multiseries_training.xlsx'\n",
    "\n",
    "now = datetime.now().strftime('%Y-%m-%dT%H:%M')\n",
    "\n",
    "project_name = 'DR_PyAPI_Demo_Sales_Multiseries_{}'.format(now)\n",
    "\n",
    "proj = dr.Project.create(sourcedata=filename,\n",
    "                         project_name=project_name,\n",
    "                         max_wait=3600)\n",
    "\n",
    "print('Project ID: {}'.format(proj.id))"
   ]
  },
  {
   "cell_type": "markdown",
   "metadata": {},
   "source": [
    "### Setting known-in-advanced features"
   ]
  },
  {
   "cell_type": "code",
   "execution_count": 10,
   "metadata": {},
   "outputs": [],
   "source": [
    "known_in_advance = ['Marketing', \n",
    "                    'Near_Xmas', \n",
    "                    'Near_BlackFriday',\n",
    "                    'Holiday', \n",
    "                    'DestinationEvent']\n",
    "\n",
    "feature_settings = [dr.FeatureSettings(feat_name,\n",
    "                                       known_in_advance=True)\n",
    "                    for feat_name in known_in_advance]"
   ]
  },
  {
   "cell_type": "markdown",
   "metadata": {},
   "source": [
    "### Multi Time Series settings\n",
    "- One time series per store"
   ]
  },
  {
   "cell_type": "code",
   "execution_count": 11,
   "metadata": {},
   "outputs": [],
   "source": [
    "time_partition = dr.DatetimePartitioningSpecification(\n",
    "    datetime_partition_column='Date',\n",
    "    multiseries_id_columns=['Store'],\n",
    "    use_time_series=True,\n",
    "    feature_settings=feature_settings,\n",
    ")"
   ]
  },
  {
   "cell_type": "markdown",
   "metadata": {},
   "source": [
    "### Set target and start autopilot"
   ]
  },
  {
   "cell_type": "code",
   "execution_count": 13,
   "metadata": {},
   "outputs": [
    {
     "data": {
      "text/plain": [
       "Project(DR_PyAPI_Demo_Sales_Multiseries_2021-11-15T19:35)"
      ]
     },
     "execution_count": 13,
     "metadata": {},
     "output_type": "execute_result"
    },
    {
     "name": "stdout",
     "output_type": "stream",
     "text": [
      "Project GUI: https://app.datarobot.com/projects/6192a87a11ec111ba3ad3a9f/models\n",
      "In progress: 20, queued: 3 (waited: 0s)\n",
      "In progress: 20, queued: 3 (waited: 1s)\n",
      "In progress: 20, queued: 3 (waited: 2s)\n",
      "In progress: 20, queued: 3 (waited: 3s)\n",
      "In progress: 20, queued: 3 (waited: 5s)\n",
      "In progress: 20, queued: 3 (waited: 7s)\n",
      "In progress: 20, queued: 3 (waited: 11s)\n",
      "In progress: 20, queued: 3 (waited: 19s)\n",
      "In progress: 20, queued: 3 (waited: 33s)\n",
      "In progress: 20, queued: 3 (waited: 54s)\n",
      "In progress: 20, queued: 2 (waited: 75s)\n",
      "In progress: 16, queued: 0 (waited: 96s)\n",
      "In progress: 7, queued: 0 (waited: 116s)\n",
      "In progress: 6, queued: 0 (waited: 137s)\n",
      "In progress: 4, queued: 0 (waited: 158s)\n",
      "In progress: 2, queued: 0 (waited: 178s)\n",
      "In progress: 4, queued: 0 (waited: 199s)\n",
      "In progress: 4, queued: 0 (waited: 220s)\n",
      "In progress: 4, queued: 0 (waited: 241s)\n",
      "In progress: 4, queued: 0 (waited: 261s)\n",
      "In progress: 1, queued: 0 (waited: 282s)\n",
      "In progress: 0, queued: 0 (waited: 303s)\n",
      "In progress: 0, queued: 0 (waited: 323s)\n",
      "In progress: 0, queued: 0 (waited: 344s)\n",
      "In progress: 0, queued: 0 (waited: 365s)\n",
      "In progress: 0, queued: 0 (waited: 385s)\n",
      "In progress: 0, queued: 0 (waited: 406s)\n",
      "In progress: 1, queued: 0 (waited: 427s)\n",
      "In progress: 1, queued: 0 (waited: 447s)\n",
      "In progress: 1, queued: 0 (waited: 468s)\n",
      "In progress: 1, queued: 0 (waited: 489s)\n",
      "In progress: 0, queued: 0 (waited: 509s)\n",
      "In progress: 1, queued: 0 (waited: 530s)\n",
      "In progress: 1, queued: 0 (waited: 550s)\n",
      "In progress: 1, queued: 0 (waited: 571s)\n",
      "In progress: 1, queued: 0 (waited: 592s)\n",
      "In progress: 1, queued: 0 (waited: 613s)\n",
      "In progress: 1, queued: 0 (waited: 634s)\n",
      "In progress: 1, queued: 0 (waited: 655s)\n",
      "In progress: 1, queued: 0 (waited: 676s)\n",
      "In progress: 1, queued: 0 (waited: 696s)\n",
      "In progress: 1, queued: 0 (waited: 717s)\n",
      "In progress: 1, queued: 0 (waited: 738s)\n",
      "In progress: 1, queued: 0 (waited: 758s)\n",
      "In progress: 0, queued: 0 (waited: 779s)\n",
      "In progress: 0, queued: 0 (waited: 800s)\n",
      "In progress: 0, queued: 0 (waited: 820s)\n",
      "In progress: 0, queued: 0 (waited: 841s)\n",
      "In progress: 0, queued: 0 (waited: 861s)\n",
      "In progress: 0, queued: 0 (waited: 882s)\n"
     ]
    }
   ],
   "source": [
    "proj.set_target(\n",
    "    target='Sales',\n",
    "    partitioning_method=time_partition,\n",
    "    max_wait=3600,\n",
    "    worker_count=-1\n",
    ")\n",
    "\n",
    "print(\"Project GUI: \" + proj.get_leaderboard_ui_permalink())\n",
    "\n",
    "proj.wait_for_autopilot()"
   ]
  },
  {
   "cell_type": "markdown",
   "metadata": {},
   "source": [
    "### Choose the best model"
   ]
  },
  {
   "cell_type": "code",
   "execution_count": 23,
   "metadata": {},
   "outputs": [
    {
     "data": {
      "text/plain": [
       "[Model('Ridge Regressor with Forecast Distance Modeling and Series Scaling'),\n",
       " Model('Ridge Regressor with Forecast Distance Modeling and Series Scaling'),\n",
       " Model('AVG Blender'),\n",
       " Model('Ridge Regressor with Forecast Distance Modeling and Series Scaling'),\n",
       " Model('Ridge Regressor with Forecast Distance Modeling and Series Scaling'),\n",
       " Model('Ridge Regressor with Forecast Distance Modeling and Series Scaling'),\n",
       " Model('eXtreme Gradient Boosted Trees Regressor with Early Stopping (learning rate =0.3)'),\n",
       " Model('Temporal Hierarchical Model with Elastic Net and XGBoost'),\n",
       " Model('Temporal Hierarchical Model with Elastic Net and XGBoost'),\n",
       " Model('eXtreme Gradient Boosted Trees Regressor with Early Stopping (learning rate =0.3)')]"
      ]
     },
     "execution_count": 23,
     "metadata": {},
     "output_type": "execute_result"
    }
   ],
   "source": [
    "proj.get_models()[:10]"
   ]
  },
  {
   "cell_type": "code",
   "execution_count": 15,
   "metadata": {},
   "outputs": [
    {
     "name": "stdout",
     "output_type": "stream",
     "text": [
      "Ridge Regressor with Forecast Distance Modeling and Series Scaling\n",
      "https://app.datarobot.com/projects/6192a87a11ec111ba3ad3a9f/models/6192ad548dcbcd9587ee0fd7\n"
     ]
    }
   ],
   "source": [
    "lb = proj.get_models()\n",
    "\n",
    "valid_models = [m for m in lb if\n",
    "                m.metrics[proj.metric]['crossValidation']]\n",
    "\n",
    "best_model = min(valid_models,\n",
    "                 key=lambda m: m.metrics[proj.metric]['crossValidation'])\n",
    "\n",
    "print(best_model.model_type)\n",
    "print(best_model.get_leaderboard_ui_permalink())"
   ]
  },
  {
   "cell_type": "markdown",
   "metadata": {},
   "source": [
    "### Unlock holdout"
   ]
  },
  {
   "cell_type": "code",
   "execution_count": 20,
   "metadata": {},
   "outputs": [
    {
     "data": {
      "text/plain": [
       "Project(DR_PyAPI_Demo_Sales_Multiseries_2021-11-15T19:35)"
      ]
     },
     "execution_count": 20,
     "metadata": {},
     "output_type": "execute_result"
    }
   ],
   "source": [
    "proj.unlock_holdout()"
   ]
  },
  {
   "cell_type": "code",
   "execution_count": 26,
   "metadata": {},
   "outputs": [
    {
     "name": "stderr",
     "output_type": "stream",
     "text": [
      "C:\\Users\\array\\Anaconda3\\lib\\site-packages\\ipykernel_launcher.py:5: DataRobotDeprecationWarning: `Using a project instance in model.get` has been deprecated in `v2.3`, will be removed in `v3.0`. Please use a project ID instead\n",
      "  \"\"\"\n"
     ]
    },
    {
     "name": "stdout",
     "output_type": "stream",
     "text": [
      "https://app.datarobot.com/projects/6192a87a11ec111ba3ad3a9f/models/6192ae23c4c1fc8b9c4b6f4d\n"
     ]
    }
   ],
   "source": [
    "# job = best_model.request_frozen_datetime_model()\n",
    "# retrained_model = job.get_result_when_complete()\n",
    "\n",
    "retrained_model_id = '6192ae23c4c1fc8b9c4b6f4d'\n",
    "retrained_model = dr.Model.get(project=proj, model_id=retrained_model_id)\n",
    "\n",
    "print(retrained_model.get_leaderboard_ui_permalink())"
   ]
  },
  {
   "cell_type": "markdown",
   "metadata": {},
   "source": [
    "### Make Predictions"
   ]
  },
  {
   "cell_type": "code",
   "execution_count": 24,
   "metadata": {},
   "outputs": [],
   "source": [
    "d = pd.read_excel('D:\\Dropbox-Array2001\\Dropbox\\DataSets\\DataRobot\\TimeSeries\\DR_Demo_Sales_Multiseries_training.xlsx')\n",
    "last_train_date = pd.to_datetime(d['Date']).max()\n",
    "\n",
    "dataset = proj.upload_dataset(\n",
    "    'D:\\Dropbox-Array2001\\Dropbox\\DataSets\\DataRobot\\TimeSeries\\DR_Demo_Sales_Multiseries_prediction.xlsx',\n",
    "    forecast_point=last_train_date\n",
    ")\n",
    "\n",
    "pred_job = best_model.request_predictions(dataset_id=dataset.id)\n",
    "preds = pred_job.get_result_when_complete()"
   ]
  },
  {
   "cell_type": "code",
   "execution_count": 25,
   "metadata": {},
   "outputs": [
    {
     "data": {
      "text/html": [
       "<div>\n",
       "<style scoped>\n",
       "    .dataframe tbody tr th:only-of-type {\n",
       "        vertical-align: middle;\n",
       "    }\n",
       "\n",
       "    .dataframe tbody tr th {\n",
       "        vertical-align: top;\n",
       "    }\n",
       "\n",
       "    .dataframe thead th {\n",
       "        text-align: right;\n",
       "    }\n",
       "</style>\n",
       "<table border=\"1\" class=\"dataframe\">\n",
       "  <thead>\n",
       "    <tr style=\"text-align: right;\">\n",
       "      <th></th>\n",
       "      <th>forecast_distance</th>\n",
       "      <th>forecast_point</th>\n",
       "      <th>prediction</th>\n",
       "      <th>row_id</th>\n",
       "      <th>series_id</th>\n",
       "      <th>timestamp</th>\n",
       "    </tr>\n",
       "  </thead>\n",
       "  <tbody>\n",
       "    <tr>\n",
       "      <th>0</th>\n",
       "      <td>1</td>\n",
       "      <td>2014-06-14T00:00:00.000000Z</td>\n",
       "      <td>127432.876904</td>\n",
       "      <td>714</td>\n",
       "      <td>Louisville</td>\n",
       "      <td>2014-06-15T00:00:00.000000Z</td>\n",
       "    </tr>\n",
       "    <tr>\n",
       "      <th>1</th>\n",
       "      <td>2</td>\n",
       "      <td>2014-06-14T00:00:00.000000Z</td>\n",
       "      <td>126751.622044</td>\n",
       "      <td>715</td>\n",
       "      <td>Louisville</td>\n",
       "      <td>2014-06-16T00:00:00.000000Z</td>\n",
       "    </tr>\n",
       "    <tr>\n",
       "      <th>2</th>\n",
       "      <td>3</td>\n",
       "      <td>2014-06-14T00:00:00.000000Z</td>\n",
       "      <td>133469.223391</td>\n",
       "      <td>716</td>\n",
       "      <td>Louisville</td>\n",
       "      <td>2014-06-17T00:00:00.000000Z</td>\n",
       "    </tr>\n",
       "    <tr>\n",
       "      <th>3</th>\n",
       "      <td>4</td>\n",
       "      <td>2014-06-14T00:00:00.000000Z</td>\n",
       "      <td>129163.909011</td>\n",
       "      <td>717</td>\n",
       "      <td>Louisville</td>\n",
       "      <td>2014-06-18T00:00:00.000000Z</td>\n",
       "    </tr>\n",
       "    <tr>\n",
       "      <th>4</th>\n",
       "      <td>5</td>\n",
       "      <td>2014-06-14T00:00:00.000000Z</td>\n",
       "      <td>149470.124649</td>\n",
       "      <td>718</td>\n",
       "      <td>Louisville</td>\n",
       "      <td>2014-06-19T00:00:00.000000Z</td>\n",
       "    </tr>\n",
       "  </tbody>\n",
       "</table>\n",
       "</div>"
      ],
      "text/plain": [
       "   forecast_distance               forecast_point     prediction  row_id  \\\n",
       "0                  1  2014-06-14T00:00:00.000000Z  127432.876904     714   \n",
       "1                  2  2014-06-14T00:00:00.000000Z  126751.622044     715   \n",
       "2                  3  2014-06-14T00:00:00.000000Z  133469.223391     716   \n",
       "3                  4  2014-06-14T00:00:00.000000Z  129163.909011     717   \n",
       "4                  5  2014-06-14T00:00:00.000000Z  149470.124649     718   \n",
       "\n",
       "    series_id                    timestamp  \n",
       "0  Louisville  2014-06-15T00:00:00.000000Z  \n",
       "1  Louisville  2014-06-16T00:00:00.000000Z  \n",
       "2  Louisville  2014-06-17T00:00:00.000000Z  \n",
       "3  Louisville  2014-06-18T00:00:00.000000Z  \n",
       "4  Louisville  2014-06-19T00:00:00.000000Z  "
      ]
     },
     "execution_count": 25,
     "metadata": {},
     "output_type": "execute_result"
    }
   ],
   "source": [
    "preds.head()"
   ]
  },
  {
   "cell_type": "code",
   "execution_count": 27,
   "metadata": {},
   "outputs": [],
   "source": [
    "preds.to_csv('D:\\Dropbox-Array2001\\Dropbox\\DataSets\\DataRobot\\TimeSeries\\DR_Demo_Sales_Multiseries_prediction_output.csv', index=False)"
   ]
  },
  {
   "cell_type": "code",
   "execution_count": null,
   "metadata": {},
   "outputs": [],
   "source": []
  }
 ],
 "metadata": {
  "kernelspec": {
   "display_name": "Python 3",
   "language": "python",
   "name": "python3"
  },
  "language_info": {
   "codemirror_mode": {
    "name": "ipython",
    "version": 3
   },
   "file_extension": ".py",
   "mimetype": "text/x-python",
   "name": "python",
   "nbconvert_exporter": "python",
   "pygments_lexer": "ipython3",
   "version": "3.7.3"
  }
 },
 "nbformat": 4,
 "nbformat_minor": 2
}
