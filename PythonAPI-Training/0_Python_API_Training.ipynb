{
 "cells": [
  {
   "cell_type": "markdown",
   "metadata": {},
   "source": [
    "## DataRobot Python API Training\n",
    "\n",
    "Notebook #0 - Intro.\n",
    "\n",
    "raul.arrabales@datarobot.com"
   ]
  },
  {
   "cell_type": "markdown",
   "metadata": {},
   "source": [
    "**Documentation**\n",
    "- [Python API Docs](https://datarobot-public-api-client.readthedocs-hosted.com/)\n",
    "- [Python samples](https://github.com/datarobot-community/examples-for-data-scientists)\n",
    "- [DR Community Tutorials](https://github.com/datarobot-community/tutorials-for-data-scientists)"
   ]
  },
  {
   "cell_type": "markdown",
   "metadata": {},
   "source": [
    "### Setup"
   ]
  },
  {
   "cell_type": "markdown",
   "metadata": {},
   "source": [
    "**Data Set**\n",
    "- Readmissions Data set (https://s3.amazonaws.com/datarobot_public_datasets/10k_diabetes.csv)\n",
    "- [Public S3 bucket](https://s3.amazonaws.com/datarobot_public_datasets/10k_diabetes.csv)"
   ]
  },
  {
   "cell_type": "code",
   "execution_count": 13,
   "metadata": {},
   "outputs": [],
   "source": [
    "url_to_data = \"https://s3.amazonaws.com/datarobot_public_datasets/10k_diabetes.csv\" \n",
    "url_to_scoring_data = 'https://s3.amazonaws.com/datarobot_public_datasets/10k_diabetes_scoring.csv'"
   ]
  },
  {
   "cell_type": "markdown",
   "metadata": {},
   "source": [
    "**Libraries**"
   ]
  },
  {
   "cell_type": "code",
   "execution_count": 1,
   "metadata": {},
   "outputs": [],
   "source": [
    "import datarobot as dr\n",
    "import seaborn as sns\n",
    "import pandas as pd\n",
    "import matplotlib.pyplot as plt"
   ]
  },
  {
   "cell_type": "markdown",
   "metadata": {},
   "source": [
    "**Connect to DataRobot Managed Cloud**"
   ]
  },
  {
   "cell_type": "code",
   "execution_count": 3,
   "metadata": {},
   "outputs": [
    {
     "data": {
      "text/plain": [
       "<datarobot.rest.RESTClientObject at 0x242bdaffa90>"
      ]
     },
     "execution_count": 3,
     "metadata": {},
     "output_type": "execute_result"
    }
   ],
   "source": [
    "credentials_File = 'drconfig.yaml'\n",
    "\n",
    "dr.Client(config_path=credentials_File)"
   ]
  },
  {
   "cell_type": "markdown",
   "metadata": {},
   "source": [
    "### Create Projects"
   ]
  },
  {
   "cell_type": "markdown",
   "metadata": {},
   "source": [
    "**Create a new project (default settings)**\n",
    "- Default settings \n",
    "- Autopilot\n",
    "- Using all available workers"
   ]
  },
  {
   "cell_type": "code",
   "execution_count": 5,
   "metadata": {},
   "outputs": [
    {
     "name": "stdout",
     "output_type": "stream",
     "text": [
      "In progress: 20, queued: 19 (waited: 0s)\n",
      "In progress: 20, queued: 19 (waited: 3s)\n",
      "In progress: 20, queued: 19 (waited: 5s)\n",
      "In progress: 20, queued: 19 (waited: 8s)\n",
      "In progress: 20, queued: 19 (waited: 12s)\n",
      "In progress: 20, queued: 19 (waited: 17s)\n",
      "In progress: 20, queued: 19 (waited: 22s)\n",
      "In progress: 20, queued: 19 (waited: 31s)\n",
      "In progress: 20, queued: 18 (waited: 46s)\n",
      "In progress: 20, queued: 18 (waited: 70s)\n",
      "In progress: 19, queued: 11 (waited: 92s)\n",
      "In progress: 19, queued: 4 (waited: 115s)\n",
      "In progress: 20, queued: 0 (waited: 137s)\n",
      "In progress: 18, queued: 0 (waited: 159s)\n",
      "In progress: 17, queued: 0 (waited: 180s)\n",
      "In progress: 12, queued: 0 (waited: 202s)\n",
      "In progress: 11, queued: 0 (waited: 224s)\n",
      "In progress: 6, queued: 0 (waited: 246s)\n",
      "In progress: 3, queued: 0 (waited: 267s)\n",
      "In progress: 2, queued: 0 (waited: 288s)\n",
      "In progress: 2, queued: 0 (waited: 309s)\n",
      "In progress: 0, queued: 0 (waited: 331s)\n",
      "In progress: 19, queued: 0 (waited: 352s)\n",
      "In progress: 19, queued: 0 (waited: 373s)\n",
      "In progress: 19, queued: 0 (waited: 396s)\n",
      "In progress: 19, queued: 0 (waited: 418s)\n",
      "In progress: 16, queued: 0 (waited: 440s)\n",
      "In progress: 8, queued: 0 (waited: 462s)\n",
      "In progress: 2, queued: 0 (waited: 484s)\n",
      "In progress: 1, queued: 0 (waited: 505s)\n",
      "In progress: 1, queued: 0 (waited: 527s)\n",
      "In progress: 0, queued: 0 (waited: 548s)\n",
      "In progress: 11, queued: 0 (waited: 569s)\n",
      "In progress: 11, queued: 0 (waited: 590s)\n",
      "In progress: 11, queued: 0 (waited: 612s)\n",
      "In progress: 11, queued: 0 (waited: 633s)\n",
      "In progress: 8, queued: 0 (waited: 655s)\n",
      "In progress: 6, queued: 0 (waited: 677s)\n",
      "In progress: 2, queued: 0 (waited: 698s)\n",
      "In progress: 1, queued: 0 (waited: 720s)\n",
      "In progress: 1, queued: 0 (waited: 741s)\n",
      "In progress: 0, queued: 0 (waited: 762s)\n",
      "In progress: 20, queued: 12 (waited: 783s)\n",
      "In progress: 15, queued: 11 (waited: 807s)\n",
      "In progress: 20, queued: 3 (waited: 829s)\n",
      "In progress: 12, queued: 0 (waited: 852s)\n",
      "In progress: 6, queued: 0 (waited: 873s)\n",
      "In progress: 2, queued: 0 (waited: 895s)\n",
      "In progress: 0, queued: 0 (waited: 916s)\n",
      "In progress: 0, queued: 0 (waited: 937s)\n",
      "In progress: 0, queued: 0 (waited: 958s)\n",
      "In progress: 0, queued: 0 (waited: 979s)\n",
      "In progress: 0, queued: 0 (waited: 1000s)\n",
      "In progress: 0, queued: 0 (waited: 1021s)\n",
      "In progress: 0, queued: 0 (waited: 1043s)\n",
      "In progress: 5, queued: 0 (waited: 1065s)\n",
      "In progress: 5, queued: 0 (waited: 1087s)\n",
      "In progress: 1, queued: 0 (waited: 1109s)\n",
      "In progress: 1, queued: 0 (waited: 1130s)\n",
      "In progress: 1, queued: 0 (waited: 1151s)\n",
      "In progress: 1, queued: 0 (waited: 1172s)\n",
      "In progress: 1, queued: 0 (waited: 1194s)\n",
      "In progress: 0, queued: 0 (waited: 1215s)\n",
      "In progress: 1, queued: 0 (waited: 1235s)\n",
      "In progress: 1, queued: 0 (waited: 1257s)\n",
      "In progress: 1, queued: 0 (waited: 1278s)\n",
      "In progress: 1, queued: 0 (waited: 1299s)\n",
      "In progress: 1, queued: 0 (waited: 1321s)\n",
      "In progress: 1, queued: 0 (waited: 1342s)\n",
      "In progress: 1, queued: 0 (waited: 1364s)\n",
      "In progress: 1, queued: 0 (waited: 1385s)\n",
      "In progress: 1, queued: 0 (waited: 1407s)\n",
      "In progress: 1, queued: 0 (waited: 1428s)\n",
      "In progress: 1, queued: 0 (waited: 1449s)\n",
      "In progress: 0, queued: 0 (waited: 1470s)\n",
      "In progress: 1, queued: 0 (waited: 1492s)\n",
      "In progress: 1, queued: 0 (waited: 1513s)\n",
      "In progress: 1, queued: 0 (waited: 1534s)\n",
      "In progress: 1, queued: 0 (waited: 1555s)\n",
      "In progress: 1, queued: 0 (waited: 1576s)\n",
      "In progress: 0, queued: 0 (waited: 1598s)\n",
      "In progress: 4, queued: 0 (waited: 1619s)\n",
      "In progress: 4, queued: 0 (waited: 1640s)\n",
      "In progress: 4, queued: 0 (waited: 1661s)\n",
      "In progress: 4, queued: 0 (waited: 1682s)\n",
      "In progress: 4, queued: 0 (waited: 1703s)\n",
      "In progress: 4, queued: 0 (waited: 1725s)\n",
      "In progress: 4, queued: 0 (waited: 1746s)\n",
      "In progress: 4, queued: 0 (waited: 1767s)\n",
      "In progress: 4, queued: 0 (waited: 1788s)\n",
      "In progress: 4, queued: 0 (waited: 1809s)\n",
      "In progress: 4, queued: 0 (waited: 1830s)\n",
      "In progress: 4, queued: 0 (waited: 1852s)\n",
      "In progress: 4, queued: 0 (waited: 1873s)\n",
      "In progress: 4, queued: 0 (waited: 1895s)\n",
      "In progress: 2, queued: 0 (waited: 1916s)\n",
      "In progress: 2, queued: 0 (waited: 1938s)\n",
      "In progress: 2, queued: 0 (waited: 1959s)\n",
      "In progress: 2, queued: 0 (waited: 1981s)\n",
      "In progress: 2, queued: 0 (waited: 2002s)\n",
      "In progress: 2, queued: 0 (waited: 2024s)\n",
      "In progress: 2, queued: 0 (waited: 2045s)\n",
      "In progress: 2, queued: 0 (waited: 2067s)\n",
      "In progress: 1, queued: 0 (waited: 2088s)\n",
      "In progress: 1, queued: 0 (waited: 2109s)\n",
      "In progress: 1, queued: 0 (waited: 2131s)\n",
      "In progress: 1, queued: 0 (waited: 2152s)\n",
      "In progress: 1, queued: 0 (waited: 2173s)\n",
      "In progress: 0, queued: 0 (waited: 2195s)\n",
      "In progress: 0, queued: 0 (waited: 2216s)\n",
      "In progress: 0, queued: 0 (waited: 2238s)\n",
      "In progress: 0, queued: 0 (waited: 2259s)\n",
      "In progress: 0, queued: 0 (waited: 2280s)\n",
      "In progress: 0, queued: 0 (waited: 2302s)\n",
      "In progress: 0, queued: 0 (waited: 2323s)\n",
      "In progress: 0, queued: 0 (waited: 2345s)\n"
     ]
    }
   ],
   "source": [
    "project = dr.Project.start(sourcedata = url_to_data,\n",
    "                           project_name = '21Oct2021_RAM_PyAPI_00_Introduction',\n",
    "                           target = 'readmitted',\n",
    "                           worker_count = -1)\n",
    "\n",
    "project.wait_for_autopilot()"
   ]
  },
  {
   "cell_type": "markdown",
   "metadata": {},
   "source": [
    "**Create a new project (custom settings)**\n",
    "- 20% holdout partition\n",
    "- 3-Fold cross-validation\n",
    "- Optimization metric: AUC"
   ]
  },
  {
   "cell_type": "code",
   "execution_count": null,
   "metadata": {},
   "outputs": [],
   "source": [
    "partitioning = dr.StratifiedCV(holdout_pct = 20, reps = 3)\n",
    "\n",
    "c_project = dr.Project.start(sourcedata = url_to_data,\n",
    "                           project_name = '21Oct2021_RAM_PyAPI_00_Introduction_with_custom_settings',\n",
    "                           target = 'readmitted',\n",
    "                           metric = 'AUC',\n",
    "                           worker_count = 1,\n",
    "                           partitioning_method = partitioning)"
   ]
  },
  {
   "cell_type": "code",
   "execution_count": null,
   "metadata": {},
   "outputs": [],
   "source": [
    "c_project.wait_for_autopilot()"
   ]
  },
  {
   "cell_type": "markdown",
   "metadata": {},
   "source": [
    "### Insights from a finished project"
   ]
  },
  {
   "cell_type": "markdown",
   "metadata": {},
   "source": [
    "**Get trained models**"
   ]
  },
  {
   "cell_type": "code",
   "execution_count": 7,
   "metadata": {},
   "outputs": [
    {
     "data": {
      "text/plain": [
       "[Model('Advanced AVG Blender'),\n",
       " Model('AVG Blender'),\n",
       " Model('ENET Blender'),\n",
       " Model('Light Gradient Boosting on ElasticNet Predictions '),\n",
       " Model('ENET Blender'),\n",
       " Model('Elastic-Net Classifier (mixing alpha=0.5 / Binomial Deviance)'),\n",
       " Model('Regularized Logistic Regression (L2)'),\n",
       " Model('Nystroem Kernel SVM Classifier'),\n",
       " Model('Elastic-Net Classifier (mixing alpha=0.5 / Binomial Deviance)'),\n",
       " Model('Elastic-Net Classifier (mixing alpha=0.5 / Binomial Deviance)')]"
      ]
     },
     "execution_count": 7,
     "metadata": {},
     "output_type": "execute_result"
    }
   ],
   "source": [
    "# Project 1 models\n",
    "project.get_models()[0:10]"
   ]
  },
  {
   "cell_type": "code",
   "execution_count": 8,
   "metadata": {},
   "outputs": [
    {
     "data": {
      "text/plain": [
       "[]"
      ]
     },
     "execution_count": 8,
     "metadata": {},
     "output_type": "execute_result"
    }
   ],
   "source": [
    "# Project 2 models\n",
    "c_project.get_models()[0:10]"
   ]
  },
  {
   "cell_type": "code",
   "execution_count": 9,
   "metadata": {},
   "outputs": [
    {
     "name": "stdout",
     "output_type": "stream",
     "text": [
      "Advanced AVG Blender\n"
     ]
    }
   ],
   "source": [
    "# Get most accurate model\n",
    "most_accurate_model = project.get_models()[0]\n",
    "\n",
    "# Get type of model\n",
    "print(most_accurate_model.model_type)"
   ]
  },
  {
   "cell_type": "code",
   "execution_count": 12,
   "metadata": {},
   "outputs": [],
   "source": [
    "# Get most accurate model\n",
    "# c_most_accurate_model = c_project.get_models()[0]\n",
    "\n",
    "# Get type of model\n",
    "# print(c_most_accurate_model.model_type)"
   ]
  },
  {
   "cell_type": "markdown",
   "metadata": {},
   "source": [
    "**Get Feature Impact**"
   ]
  },
  {
   "cell_type": "code",
   "execution_count": 14,
   "metadata": {},
   "outputs": [
    {
     "data": {
      "text/plain": [
       "<matplotlib.axes._subplots.AxesSubplot at 0x242bda89c88>"
      ]
     },
     "execution_count": 14,
     "metadata": {},
     "output_type": "execute_result"
    },
    {
     "data": {
      "image/png": "[encoded data removed]",
      "text/plain": [
       "<Figure size 864x360 with 1 Axes>"
      ]
     },
     "metadata": {
      "needs_background": "light"
     },
     "output_type": "display_data"
    }
   ],
   "source": [
    "# Get Feature Impact\n",
    "feature_impact = most_accurate_model.get_or_request_feature_impact()\n",
    "\n",
    "# Save feature impact in pandas dataframe\n",
    "fi_df = pd.DataFrame(feature_impact)\n",
    "\n",
    "fig, ax = plt.subplots(figsize = (12,5))\n",
    "\n",
    "#Plot feature impact\n",
    "sns.barplot(x='featureName', y='impactNormalized', data=fi_df[0:5], color='g')"
   ]
  },
  {
   "cell_type": "code",
   "execution_count": 15,
   "metadata": {},
   "outputs": [
    {
     "data": {
      "text/plain": [
       "[{'featureName': 'number_inpatient',\n",
       "  'impactNormalized': 1.0,\n",
       "  'impactUnnormalized': 0.027839110712501447,\n",
       "  'redundantWith': None},\n",
       " {'featureName': 'discharge_disposition_id',\n",
       "  'impactNormalized': 0.8479059530917163,\n",
       "  'impactUnnormalized': 0.02360494770190935,\n",
       "  'redundantWith': None},\n",
       " {'featureName': 'admission_type_id',\n",
       "  'impactNormalized': 0.4981629220693468,\n",
       "  'impactUnnormalized': 0.013868412740351777,\n",
       "  'redundantWith': None},\n",
       " {'featureName': 'number_diagnoses',\n",
       "  'impactNormalized': 0.44823191952091535,\n",
       "  'impactUnnormalized': 0.012478378032419801,\n",
       "  'redundantWith': None},\n",
       " {'featureName': 'num_lab_procedures',\n",
       "  'impactNormalized': 0.33016182854997644,\n",
       "  'impactUnnormalized': 0.009191411698044716,\n",
       "  'redundantWith': None},\n",
       " {'featureName': 'diag_2',\n",
       "  'impactNormalized': 0.31919697147026593,\n",
       "  'impactUnnormalized': 0.0088861598278559,\n",
       "  'redundantWith': None},\n",
       " {'featureName': 'medical_specialty',\n",
       "  'impactNormalized': 0.3094371807515625,\n",
       "  'impactUnnormalized': 0.00861445593350707,\n",
       "  'redundantWith': None},\n",
       " {'featureName': 'diag_1',\n",
       "  'impactNormalized': 0.2908214509515535,\n",
       "  'impactUnnormalized': 0.008096210570610607,\n",
       "  'redundantWith': None},\n",
       " {'featureName': 'admission_source_id',\n",
       "  'impactNormalized': 0.25595365451063085,\n",
       "  'impactUnnormalized': 0.007125522125190797,\n",
       "  'redundantWith': None},\n",
       " {'featureName': 'num_medications',\n",
       "  'impactNormalized': 0.25587186329276373,\n",
       "  'impactUnnormalized': 0.007123245130421285,\n",
       "  'redundantWith': None},\n",
       " {'featureName': 'age',\n",
       "  'impactNormalized': 0.21621298397010233,\n",
       "  'impactUnnormalized': 0.0060191771982239795,\n",
       "  'redundantWith': None},\n",
       " {'featureName': 'number_outpatient',\n",
       "  'impactNormalized': 0.19796172955218463,\n",
       "  'impactUnnormalized': 0.005511078505841538,\n",
       "  'redundantWith': None},\n",
       " {'featureName': 'number_emergency',\n",
       "  'impactNormalized': 0.17412064396646285,\n",
       "  'impactUnnormalized': 0.004847363884714406,\n",
       "  'redundantWith': None},\n",
       " {'featureName': 'num_procedures',\n",
       "  'impactNormalized': 0.1623626288057558,\n",
       "  'impactUnnormalized': 0.004520031198896213,\n",
       "  'redundantWith': None},\n",
       " {'featureName': 'time_in_hospital',\n",
       "  'impactNormalized': 0.14980100234459134,\n",
       "  'impactUnnormalized': 0.004170326689114767,\n",
       "  'redundantWith': None},\n",
       " {'featureName': 'diag_2_desc',\n",
       "  'impactNormalized': 0.14579473774247514,\n",
       "  'impactUnnormalized': 0.004058795845312879,\n",
       "  'redundantWith': None},\n",
       " {'featureName': 'race',\n",
       "  'impactNormalized': 0.1428141106523076,\n",
       "  'impactUnnormalized': 0.003975817837757023,\n",
       "  'redundantWith': None},\n",
       " {'featureName': 'weight',\n",
       "  'impactNormalized': 0.14255211108858143,\n",
       "  'impactUnnormalized': 0.0039685240028958235,\n",
       "  'redundantWith': None},\n",
       " {'featureName': 'payer_code',\n",
       "  'impactNormalized': 0.14175960986831948,\n",
       "  'impactUnnormalized': 0.003946461473685159,\n",
       "  'redundantWith': None},\n",
       " {'featureName': 'diag_3',\n",
       "  'impactNormalized': 0.12579644180333552,\n",
       "  'impactUnnormalized': 0.003502061070601803,\n",
       "  'redundantWith': None},\n",
       " {'featureName': 'diag_1_desc',\n",
       "  'impactNormalized': 0.09475176947331712,\n",
       "  'impactUnnormalized': 0.00263780500057309,\n",
       "  'redundantWith': None},\n",
       " {'featureName': 'pioglitazone',\n",
       "  'impactNormalized': 0.0767828171758171,\n",
       "  'impactUnnormalized': 0.00213756534817533,\n",
       "  'redundantWith': None},\n",
       " {'featureName': 'gender',\n",
       "  'impactNormalized': 0.07182457136480074,\n",
       "  'impactUnnormalized': 0.001999532194102649,\n",
       "  'redundantWith': None},\n",
       " {'featureName': 'diabetesMed',\n",
       "  'impactNormalized': 0.030165735384786653,\n",
       "  'impactUnnormalized': 0.0008397872471010981,\n",
       "  'redundantWith': None},\n",
       " {'featureName': 'glipizide',\n",
       "  'impactNormalized': 0.015081352438059397,\n",
       "  'impactUnnormalized': 0.0004198514402173892,\n",
       "  'redundantWith': None},\n",
       " {'featureName': 'glyburide',\n",
       "  'impactNormalized': 0.014809059472502144,\n",
       "  'impactUnnormalized': 0.0004122710462030055,\n",
       "  'redundantWith': None},\n",
       " {'featureName': 'A1Cresult',\n",
       "  'impactNormalized': 0.0113780506137478,\n",
       "  'impactUnnormalized': 0.00031675481072857004,\n",
       "  'redundantWith': None},\n",
       " {'featureName': 'change',\n",
       "  'impactNormalized': 0.007667900716680821,\n",
       "  'impactUnnormalized': 0.00021346753698414656,\n",
       "  'redundantWith': None},\n",
       " {'featureName': 'diag_3_desc',\n",
       "  'impactNormalized': 0.005730634741255089,\n",
       "  'impactUnnormalized': 0.0001595357750147075,\n",
       "  'redundantWith': None},\n",
       " {'featureName': 'rosiglitazone',\n",
       "  'impactNormalized': 0.004573349308558941,\n",
       "  'impactUnnormalized': 0.0001273179777279143,\n",
       "  'redundantWith': None},\n",
       " {'featureName': 'repaglinide',\n",
       "  'impactNormalized': 0.00203387057094459,\n",
       "  'impactUnnormalized': 5.662114799942497e-05,\n",
       "  'redundantWith': None},\n",
       " {'featureName': 'metformin',\n",
       "  'impactNormalized': 0.0016536498037514667,\n",
       "  'impactUnnormalized': 4.603613996634337e-05,\n",
       "  'redundantWith': None},\n",
       " {'featureName': 'glimepiride',\n",
       "  'impactNormalized': 0.0013716473792163835,\n",
       "  'impactUnnormalized': 3.818544324851736e-05,\n",
       "  'redundantWith': None},\n",
       " {'featureName': 'acarbose',\n",
       "  'impactNormalized': 2.1646138738205368e-05,\n",
       "  'impactUnnormalized': 6.026092528310656e-07,\n",
       "  'redundantWith': None},\n",
       " {'featureName': 'chlorpropamide',\n",
       "  'impactNormalized': 4.996335100887527e-06,\n",
       "  'impactUnnormalized': 1.3909352603036496e-07,\n",
       "  'redundantWith': None},\n",
       " {'featureName': 'nateglinide',\n",
       "  'impactNormalized': -9.046660663402922e-05,\n",
       "  'impactUnnormalized': -2.5185098778690573e-06,\n",
       "  'redundantWith': None},\n",
       " {'featureName': 'glyburide_metformin',\n",
       "  'impactNormalized': -0.0005480678119255957,\n",
       "  'impactUnnormalized': -1.525772049415508e-05,\n",
       "  'redundantWith': None},\n",
       " {'featureName': 'max_glu_serum',\n",
       "  'impactNormalized': -0.001948413025681587,\n",
       "  'impactUnnormalized': -5.4242085935629625e-05,\n",
       "  'redundantWith': None},\n",
       " {'featureName': 'insulin',\n",
       "  'impactNormalized': -0.02333932045656897,\n",
       "  'impactUnnormalized': -0.0006497459261449734,\n",
       "  'redundantWith': None}]"
      ]
     },
     "execution_count": 15,
     "metadata": {},
     "output_type": "execute_result"
    }
   ],
   "source": [
    "feature_impact"
   ]
  },
  {
   "cell_type": "markdown",
   "metadata": {},
   "source": [
    "**Get ROC curve**"
   ]
  },
  {
   "cell_type": "code",
   "execution_count": 16,
   "metadata": {},
   "outputs": [
    {
     "data": {
      "text/plain": [
       "(0, 1)"
      ]
     },
     "execution_count": 16,
     "metadata": {},
     "output_type": "execute_result"
    },
    {
     "data": {
      "image/png": "[encoded data removed]",
      "text/plain": [
       "<Figure size 576x576 with 1 Axes>"
      ]
     },
     "metadata": {
      "needs_background": "light"
     },
     "output_type": "display_data"
    }
   ],
   "source": [
    "# ROC curve for validation partition\n",
    "roc = most_accurate_model.get_roc_curve('validation')\n",
    "\n",
    "# Save the result into a pandas dataframe\n",
    "roc_df = pd.DataFrame(roc.roc_points)\n",
    "roc_df.head()\n",
    "\n",
    "dr_roc_green = '#03c75f'\n",
    "white = '#ffffff'\n",
    "dr_purple = '#65147D'\n",
    "dr_dense_green = '#018f4f'\n",
    "dr_dark_blue = '#08233F'\n",
    "\n",
    "fig = plt.figure(figsize=(8, 8))\n",
    "axes = fig.add_subplot(1, 1, 1, facecolor=dr_dark_blue)\n",
    "\n",
    "plt.scatter(roc_df.false_positive_rate, roc_df.true_positive_rate, color=dr_roc_green)\n",
    "plt.plot(roc_df.false_positive_rate, roc_df.true_positive_rate, color=dr_roc_green)\n",
    "plt.plot([0, 1], [0, 1], color=white, alpha=0.25)\n",
    "plt.title('ROC curve')\n",
    "plt.xlabel('False Positive Rate (Fallout)')\n",
    "plt.xlim([0, 1])\n",
    "plt.ylabel('True Positive Rate (Sensitivity)')\n",
    "plt.ylim([0, 1])"
   ]
  },
  {
   "cell_type": "markdown",
   "metadata": {},
   "source": [
    "### Model Deployment"
   ]
  },
  {
   "cell_type": "markdown",
   "metadata": {},
   "source": [
    "**Get Prediction Server**\n",
    "- Managed Cloud"
   ]
  },
  {
   "cell_type": "code",
   "execution_count": 17,
   "metadata": {},
   "outputs": [
    {
     "name": "stdout",
     "output_type": "stream",
     "text": [
      "PredictionServer(https://mlops.dynamic.orm.datarobot.com)\n"
     ]
    }
   ],
   "source": [
    "prediction_server = dr.PredictionServer.list()[0]\n",
    "print(prediction_server)"
   ]
  },
  {
   "cell_type": "markdown",
   "metadata": {},
   "source": [
    "**Create the deployment**"
   ]
  },
  {
   "cell_type": "code",
   "execution_count": 18,
   "metadata": {},
   "outputs": [
    {
     "data": {
      "text/plain": [
       "Deployment(21Oct2021_RAM_Readmissions)"
      ]
     },
     "execution_count": 18,
     "metadata": {},
     "output_type": "execute_result"
    }
   ],
   "source": [
    "deployment = dr.Deployment.create_from_learning_model(\n",
    "    most_accurate_model.id, label='21Oct2021_RAM_Readmissions', \n",
    "    description='API Trainig Readmissions deployment',\n",
    "    default_prediction_server_id=prediction_server.id)\n",
    "\n",
    "deployment"
   ]
  },
  {
   "cell_type": "markdown",
   "metadata": {},
   "source": [
    "### Model Scoring"
   ]
  },
  {
   "cell_type": "markdown",
   "metadata": {},
   "source": [
    "**Using Batch Prediction API**"
   ]
  },
  {
   "cell_type": "code",
   "execution_count": 19,
   "metadata": {},
   "outputs": [
    {
     "data": {
      "text/plain": [
       "BatchPredictionJob(batchPredictions, '61717e67add6682b2a8e0340', status=INITIALIZING)"
      ]
     },
     "execution_count": 19,
     "metadata": {},
     "output_type": "execute_result"
    }
   ],
   "source": [
    "scoring = pd.read_csv(url_to_scoring_data, nrows=100)\n",
    "\n",
    "scoring.to_csv('scoring.csv',index=False)\n",
    "\n",
    "dr.BatchPredictionJob.score_to_file(\n",
    "    deployment.id,\n",
    "    'scoring.csv',\n",
    "    './predicted.csv')"
   ]
  },
  {
   "cell_type": "code",
   "execution_count": null,
   "metadata": {},
   "outputs": [],
   "source": []
  }
 ],
 "metadata": {
  "kernelspec": {
   "display_name": "Python 3",
   "language": "python",
   "name": "python3"
  },
  "language_info": {
   "codemirror_mode": {
    "name": "ipython",
    "version": 3
   },
   "file_extension": ".py",
   "mimetype": "text/x-python",
   "name": "python",
   "nbconvert_exporter": "python",
   "pygments_lexer": "ipython3",
   "version": "3.7.3"
  }
 },
 "nbformat": 4,
 "nbformat_minor": 2
}
