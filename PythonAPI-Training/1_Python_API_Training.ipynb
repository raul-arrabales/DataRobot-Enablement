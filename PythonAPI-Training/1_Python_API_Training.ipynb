{
 "cells": [
  {
   "cell_type": "markdown",
   "metadata": {},
   "source": [
    "## DataRobot Python API Training\n",
    "\n",
    "Notebook #1 - Exercise 1 - Feature Selection Curves\n",
    "\n",
    "raul.arrabales@datarobot.com"
   ]
  },
  {
   "cell_type": "markdown",
   "metadata": {},
   "source": [
    "**Data Sets**"
   ]
  },
  {
   "cell_type": "code",
   "execution_count": 2,
   "metadata": {},
   "outputs": [],
   "source": [
    "url_to_data = \"https://s3.amazonaws.com/datarobot_public_datasets/10k_diabetes.csv\" \n",
    "url_to_scoring_data = 'https://s3.amazonaws.com/datarobot_public_datasets/10k_diabetes_scoring.csv'"
   ]
  },
  {
   "cell_type": "markdown",
   "metadata": {},
   "source": [
    "**Libraries**"
   ]
  },
  {
   "cell_type": "code",
   "execution_count": 4,
   "metadata": {},
   "outputs": [],
   "source": [
    "import datarobot as dr\n",
    "import seaborn as sns\n",
    "import pandas as pd\n",
    "import matplotlib.pyplot as plt"
   ]
  },
  {
   "cell_type": "markdown",
   "metadata": {},
   "source": [
    "**Connect to DataRobot**"
   ]
  },
  {
   "cell_type": "code",
   "execution_count": 6,
   "metadata": {},
   "outputs": [
    {
     "data": {
      "text/plain": [
       "<datarobot.rest.RESTClientObject at 0x231c891bc50>"
      ]
     },
     "execution_count": 6,
     "metadata": {},
     "output_type": "execute_result"
    }
   ],
   "source": [
    "credentials_File = 'drconfig.yaml'\n",
    "\n",
    "dr.Client(config_path=credentials_File)"
   ]
  },
  {
   "cell_type": "markdown",
   "metadata": {},
   "source": [
    "**Create Project**\n",
    "- Use the data variable as input.\n",
    "- Set readmitted as the target.\n",
    "- Start the project using explicitly the quick autopilot in the mode variable.\n",
    "- Use AUC as the optimisation metric.\n",
    "- Set worker_count variable to -1.\n",
    "- Wait for Autopilot to complete."
   ]
  },
  {
   "cell_type": "code",
   "execution_count": 10,
   "metadata": {},
   "outputs": [],
   "source": [
    "project = dr.Project.create(sourcedata = url_to_data,\n",
    "                            project_name='21Oct2021_RAM_PyAPI_01_FeatSelectionCurves')"
   ]
  },
  {
   "cell_type": "code",
   "execution_count": 11,
   "metadata": {},
   "outputs": [
    {
     "data": {
      "text/plain": [
       "Project(21Oct2021_RAM_PyAPI_01_FeatSelectionCurves)"
      ]
     },
     "execution_count": 11,
     "metadata": {},
     "output_type": "execute_result"
    }
   ],
   "source": [
    "project.set_target(target = 'readmitted',\n",
    "                   metric = 'AUC',\n",
    "                   mode=dr.AUTOPILOT_MODE.QUICK,\n",
    "                   worker_count = -1)"
   ]
  },
  {
   "cell_type": "code",
   "execution_count": 13,
   "metadata": {},
   "outputs": [
    {
     "name": "stdout",
     "output_type": "stream",
     "text": [
      "In progress: 12, queued: 0 (waited: 0s)\n",
      "In progress: 11, queued: 0 (waited: 2s)\n",
      "In progress: 11, queued: 0 (waited: 4s)\n",
      "In progress: 11, queued: 0 (waited: 5s)\n",
      "In progress: 11, queued: 0 (waited: 8s)\n",
      "In progress: 11, queued: 0 (waited: 11s)\n",
      "In progress: 9, queued: 0 (waited: 15s)\n",
      "In progress: 8, queued: 0 (waited: 23s)\n",
      "In progress: 7, queued: 0 (waited: 37s)\n",
      "In progress: 4, queued: 0 (waited: 59s)\n",
      "In progress: 3, queued: 0 (waited: 81s)\n",
      "In progress: 2, queued: 0 (waited: 102s)\n",
      "In progress: 1, queued: 0 (waited: 124s)\n",
      "In progress: 0, queued: 0 (waited: 145s)\n",
      "In progress: 7, queued: 0 (waited: 166s)\n",
      "In progress: 7, queued: 0 (waited: 188s)\n",
      "In progress: 7, queued: 0 (waited: 209s)\n",
      "In progress: 6, queued: 0 (waited: 231s)\n",
      "In progress: 3, queued: 0 (waited: 253s)\n",
      "In progress: 0, queued: 0 (waited: 275s)\n",
      "In progress: 16, queued: 0 (waited: 296s)\n",
      "In progress: 13, queued: 0 (waited: 319s)\n",
      "In progress: 3, queued: 0 (waited: 341s)\n",
      "In progress: 1, queued: 0 (waited: 362s)\n",
      "In progress: 1, queued: 0 (waited: 384s)\n",
      "In progress: 0, queued: 0 (waited: 405s)\n",
      "In progress: 0, queued: 0 (waited: 427s)\n",
      "In progress: 0, queued: 0 (waited: 448s)\n",
      "In progress: 0, queued: 0 (waited: 470s)\n",
      "In progress: 0, queued: 0 (waited: 491s)\n",
      "In progress: 5, queued: 0 (waited: 512s)\n",
      "In progress: 5, queued: 0 (waited: 534s)\n",
      "In progress: 1, queued: 0 (waited: 556s)\n",
      "In progress: 1, queued: 0 (waited: 577s)\n",
      "In progress: 1, queued: 0 (waited: 599s)\n",
      "In progress: 1, queued: 0 (waited: 621s)\n",
      "In progress: 1, queued: 0 (waited: 643s)\n",
      "In progress: 0, queued: 0 (waited: 665s)\n",
      "In progress: 3, queued: 1 (waited: 686s)\n",
      "In progress: 3, queued: 1 (waited: 708s)\n",
      "In progress: 3, queued: 1 (waited: 729s)\n",
      "In progress: 3, queued: 1 (waited: 751s)\n",
      "In progress: 1, queued: 1 (waited: 773s)\n",
      "In progress: 1, queued: 0 (waited: 794s)\n",
      "In progress: 1, queued: 0 (waited: 815s)\n",
      "In progress: 1, queued: 0 (waited: 836s)\n",
      "In progress: 1, queued: 0 (waited: 858s)\n",
      "In progress: 1, queued: 0 (waited: 879s)\n",
      "In progress: 0, queued: 0 (waited: 901s)\n",
      "In progress: 3, queued: 1 (waited: 922s)\n",
      "In progress: 3, queued: 1 (waited: 945s)\n",
      "In progress: 3, queued: 1 (waited: 966s)\n",
      "In progress: 3, queued: 1 (waited: 988s)\n",
      "In progress: 1, queued: 1 (waited: 1010s)\n",
      "In progress: 1, queued: 1 (waited: 1032s)\n",
      "In progress: 1, queued: 0 (waited: 1053s)\n",
      "In progress: 1, queued: 0 (waited: 1074s)\n",
      "In progress: 1, queued: 0 (waited: 1096s)\n",
      "In progress: 1, queued: 0 (waited: 1117s)\n",
      "In progress: 1, queued: 0 (waited: 1139s)\n",
      "In progress: 0, queued: 1 (waited: 1160s)\n",
      "In progress: 4, queued: 1 (waited: 1182s)\n",
      "In progress: 4, queued: 1 (waited: 1203s)\n",
      "In progress: 4, queued: 1 (waited: 1225s)\n",
      "In progress: 4, queued: 1 (waited: 1247s)\n",
      "In progress: 2, queued: 1 (waited: 1268s)\n",
      "In progress: 2, queued: 0 (waited: 1289s)\n",
      "In progress: 2, queued: 0 (waited: 1311s)\n",
      "In progress: 2, queued: 0 (waited: 1332s)\n",
      "In progress: 2, queued: 0 (waited: 1353s)\n",
      "In progress: 2, queued: 0 (waited: 1375s)\n",
      "In progress: 2, queued: 0 (waited: 1396s)\n",
      "In progress: 0, queued: 0 (waited: 1418s)\n",
      "In progress: 0, queued: 0 (waited: 1439s)\n",
      "In progress: 0, queued: 0 (waited: 1461s)\n",
      "In progress: 0, queued: 0 (waited: 1482s)\n",
      "In progress: 0, queued: 0 (waited: 1504s)\n",
      "In progress: 0, queued: 0 (waited: 1525s)\n",
      "In progress: 0, queued: 0 (waited: 1546s)\n",
      "In progress: 0, queued: 0 (waited: 1568s)\n"
     ]
    }
   ],
   "source": [
    "project.wait_for_autopilot()"
   ]
  },
  {
   "cell_type": "markdown",
   "metadata": {},
   "source": [
    "**Create Custom Feature Lists**\n",
    "- Retrieve Feature Impact for the most accurate model by the validation score\n",
    "- Create 3 different Feature Lists named top_5, top_10 and top_15. \n",
    "- Each feature list will have the respective top n features based on Feature Impact score."
   ]
  },
  {
   "cell_type": "code",
   "execution_count": 14,
   "metadata": {},
   "outputs": [],
   "source": [
    "# Get most accurate model\n",
    "most_accurate_model = project.get_models()[0]\n",
    "\n",
    "# Get Feature Impact\n",
    "feature_impact = most_accurate_model.get_or_request_feature_impact()"
   ]
  },
  {
   "cell_type": "code",
   "execution_count": 15,
   "metadata": {},
   "outputs": [
    {
     "data": {
      "text/plain": [
       "[Featurelist(Raw Features),\n",
       " Featurelist(Informative Features),\n",
       " Featurelist(Univariate Selections),\n",
       " Featurelist(DR Reduced Features M21)]"
      ]
     },
     "execution_count": 15,
     "metadata": {},
     "output_type": "execute_result"
    }
   ],
   "source": [
    "# Current feature lists:\n",
    "project.get_featurelists()"
   ]
  },
  {
   "cell_type": "code",
   "execution_count": 16,
   "metadata": {},
   "outputs": [
    {
     "data": {
      "text/plain": [
       "39"
      ]
     },
     "execution_count": 16,
     "metadata": {},
     "output_type": "execute_result"
    }
   ],
   "source": [
    "len(feature_impact)"
   ]
  },
  {
   "cell_type": "code",
   "execution_count": 25,
   "metadata": {},
   "outputs": [
    {
     "name": "stdout",
     "output_type": "stream",
     "text": [
      "discharge_disposition_id --> 1.0\n",
      "medical_specialty --> 0.6397351319048539\n",
      "number_inpatient --> 0.5826196419940968\n",
      "admission_source_id --> 0.3059319723661155\n",
      "num_lab_procedures --> 0.2886037016257656\n"
     ]
    }
   ],
   "source": [
    "for feat in feature_impact[0:5]:\n",
    "    print(feat.get('featureName') + \" --> \" + str(feat.get('impactNormalized')))"
   ]
  },
  {
   "cell_type": "code",
   "execution_count": 27,
   "metadata": {},
   "outputs": [
    {
     "data": {
      "text/plain": [
       "['discharge_disposition_id',\n",
       " 'medical_specialty',\n",
       " 'number_inpatient',\n",
       " 'admission_source_id',\n",
       " 'num_lab_procedures']"
      ]
     },
     "execution_count": 27,
     "metadata": {},
     "output_type": "execute_result"
    }
   ],
   "source": [
    "[feat.get('featureName') for feat in feature_impact[0:5]]"
   ]
  },
  {
   "cell_type": "code",
   "execution_count": 28,
   "metadata": {},
   "outputs": [],
   "source": [
    "# Create new feat lists\n",
    "top_5_feats = project.create_featurelist('Top5_Feats', \n",
    "                                         features = [feat.get('featureName') for feat in feature_impact[0:5]]) "
   ]
  },
  {
   "cell_type": "code",
   "execution_count": 31,
   "metadata": {},
   "outputs": [],
   "source": [
    "top_10_feats = project.create_featurelist('Top10_Feats', \n",
    "                                         features = [feat.get('featureName') for feat in feature_impact[0:10]])"
   ]
  },
  {
   "cell_type": "code",
   "execution_count": 32,
   "metadata": {},
   "outputs": [],
   "source": [
    "top_15_feats = project.create_featurelist('Top15_Feats', \n",
    "                                         features = [feat.get('featureName') for feat in feature_impact[0:15]])"
   ]
  },
  {
   "cell_type": "code",
   "execution_count": 33,
   "metadata": {},
   "outputs": [
    {
     "data": {
      "text/plain": [
       "[Featurelist(Raw Features),\n",
       " Featurelist(Informative Features),\n",
       " Featurelist(Univariate Selections),\n",
       " Featurelist(DR Reduced Features M21),\n",
       " Featurelist(Top5_Feats),\n",
       " Featurelist(Top10_Feats),\n",
       " Featurelist(Top15_Feats)]"
      ]
     },
     "execution_count": 33,
     "metadata": {},
     "output_type": "execute_result"
    }
   ],
   "source": [
    "# Current feature lists:\n",
    "project.get_featurelists()"
   ]
  },
  {
   "cell_type": "markdown",
   "metadata": {},
   "source": [
    "**Identify Specific Models**\n",
    "- Model's model_type is in ['Light Gradient', 'eXtreme Gradient', 'Elastic-Net'].\n",
    "- Model's sample_pct equals 64% (The amount of data the model has been trained on)."
   ]
  },
  {
   "cell_type": "code",
   "execution_count": 38,
   "metadata": {},
   "outputs": [],
   "source": [
    "models_LG = project.get_models(search_params={\n",
    "                'name': \"Light Gradient\",\n",
    "                })\n",
    "\n",
    "models_XG = project.get_models(search_params={\n",
    "                'name': \"eXtreme Gradient\",\n",
    "                })\n",
    "\n",
    "models_EN = project.get_models(search_params={\n",
    "                'name': \"Elastic-Net\",\n",
    "                })"
   ]
  },
  {
   "cell_type": "code",
   "execution_count": 39,
   "metadata": {},
   "outputs": [],
   "source": [
    "models_3types = models_LG + models_XG + models_EN"
   ]
  },
  {
   "cell_type": "code",
   "execution_count": 40,
   "metadata": {},
   "outputs": [
    {
     "data": {
      "text/plain": [
       "[Model('Light Gradient Boosted Trees Classifier with Early Stopping'),\n",
       " Model('Light Gradient Boosted Trees Classifier with Early Stopping'),\n",
       " Model('Light Gradient Boosted Trees Classifier with Early Stopping'),\n",
       " Model('Light Gradient Boosted Trees Classifier with Early Stopping'),\n",
       " Model('Light Gradient Boosting on ElasticNet Predictions '),\n",
       " Model('Light Gradient Boosting on ElasticNet Predictions '),\n",
       " Model('Light Gradient Boosted Trees Classifier with Early Stopping'),\n",
       " Model('Light Gradient Boosted Trees Classifier with Early Stopping'),\n",
       " Model('eXtreme Gradient Boosted Trees Classifier with Early Stopping'),\n",
       " Model('Elastic-Net Classifier (mixing alpha=0.5 / Binomial Deviance)'),\n",
       " Model('Elastic-Net Classifier (L2 / Binomial Deviance)'),\n",
       " Model('Elastic-Net Classifier (mixing alpha=0.5 / Binomial Deviance)'),\n",
       " Model('Elastic-Net Classifier (L2 / Binomial Deviance)')]"
      ]
     },
     "execution_count": 40,
     "metadata": {},
     "output_type": "execute_result"
    }
   ],
   "source": [
    "models_3types"
   ]
  },
  {
   "cell_type": "code",
   "execution_count": 44,
   "metadata": {},
   "outputs": [],
   "source": [
    "models_64 = project.get_models(search_params={\n",
    "                'sample_pct': 64,\n",
    "                })"
   ]
  },
  {
   "cell_type": "code",
   "execution_count": 45,
   "metadata": {},
   "outputs": [
    {
     "data": {
      "text/plain": [
       "[Model('AVG Blender'),\n",
       " Model('Light Gradient Boosted Trees Classifier with Early Stopping'),\n",
       " Model('Light Gradient Boosted Trees Classifier with Early Stopping'),\n",
       " Model('Light Gradient Boosting on ElasticNet Predictions '),\n",
       " Model('Elastic-Net Classifier (mixing alpha=0.5 / Binomial Deviance)'),\n",
       " Model('Elastic-Net Classifier (L2 / Binomial Deviance)'),\n",
       " Model('Auto-Tuned Word N-Gram Text Modeler using token occurrences - diag_1_desc'),\n",
       " Model('Auto-Tuned Word N-Gram Text Modeler using token occurrences - diag_2_desc'),\n",
       " Model('Auto-Tuned Word N-Gram Text Modeler using token occurrences - diag_3_desc')]"
      ]
     },
     "execution_count": 45,
     "metadata": {},
     "output_type": "execute_result"
    }
   ],
   "source": [
    "models_64"
   ]
  },
  {
   "cell_type": "code",
   "execution_count": 69,
   "metadata": {},
   "outputs": [
    {
     "data": {
      "text/plain": [
       "<bound method Model.get_parameters of Model('AVG Blender')>"
      ]
     },
     "execution_count": 69,
     "metadata": {},
     "output_type": "execute_result"
    }
   ],
   "source": [
    "models_64[0].\n",
    "    \n"
   ]
  },
  {
   "cell_type": "code",
   "execution_count": 65,
   "metadata": {},
   "outputs": [
    {
     "name": "stdout",
     "output_type": "stream",
     "text": [
      "blend\n",
      "model\n",
      "model\n",
      "model\n",
      "model\n",
      "model\n",
      "model\n",
      "model\n",
      "model\n"
     ]
    }
   ],
   "source": [
    "for model in models_64:\n",
    "    print(model.model_category)"
   ]
  },
  {
   "cell_type": "markdown",
   "metadata": {},
   "source": [
    "**Retrain models on the custom feature lists**\n",
    "- Retrain the models with the top_5, top_10, top_15 feature lists and 64% of the data."
   ]
  },
  {
   "cell_type": "code",
   "execution_count": 71,
   "metadata": {},
   "outputs": [
    {
     "name": "stdout",
     "output_type": "stream",
     "text": [
      "Training model: ModelJob(Light Gradient Boosted Trees Classifier with Early Stopping, status=COMPLETED)\n",
      "Training model: ModelJob(Light Gradient Boosted Trees Classifier with Early Stopping, status=inprogress)\n",
      "Training model: ModelJob(Light Gradient Boosted Trees Classifier with Early Stopping, status=queue)\n",
      "Training model: ModelJob(Light Gradient Boosted Trees Classifier with Early Stopping, status=COMPLETED)\n",
      "Training model: ModelJob(Light Gradient Boosted Trees Classifier with Early Stopping, status=inprogress)\n",
      "Training model: ModelJob(Light Gradient Boosted Trees Classifier with Early Stopping, status=inprogress)\n",
      "Training model: ModelJob(Light Gradient Boosting on ElasticNet Predictions , status=inprogress)\n",
      "Training model: ModelJob(Light Gradient Boosting on ElasticNet Predictions , status=inprogress)\n",
      "Training model: ModelJob(Light Gradient Boosting on ElasticNet Predictions , status=queue)\n",
      "Training model: ModelJob(Elastic-Net Classifier (mixing alpha=0.5 / Binomial Deviance), status=inprogress)\n",
      "Training model: ModelJob(Elastic-Net Classifier (mixing alpha=0.5 / Binomial Deviance), status=queue)\n",
      "Training model: ModelJob(Elastic-Net Classifier (mixing alpha=0.5 / Binomial Deviance), status=inprogress)\n",
      "Training model: ModelJob(Elastic-Net Classifier (L2 / Binomial Deviance), status=queue)\n",
      "Training model: ModelJob(Elastic-Net Classifier (L2 / Binomial Deviance), status=queue)\n",
      "Training model: ModelJob(Elastic-Net Classifier (L2 / Binomial Deviance), status=queue)\n"
     ]
    },
    {
     "ename": "ClientError",
     "evalue": "422 client error: {'message': 'Model 61717b071c0a78984b9e86f3 can not be retrained with featurelist 61718477e294229c6cc08f96'}",
     "output_type": "error",
     "traceback": [
      "\u001b[1;31m---------------------------------------------------------------------------\u001b[0m",
      "\u001b[1;31mClientError\u001b[0m                               Traceback (most recent call last)",
      "\u001b[1;32m<ipython-input-71-eac7e2467774>\u001b[0m in \u001b[0;36m<module>\u001b[1;34m\u001b[0m\n\u001b[0;32m      2\u001b[0m     \u001b[1;32mif\u001b[0m \u001b[0mmodel\u001b[0m\u001b[1;33m.\u001b[0m\u001b[0mmodel_category\u001b[0m \u001b[1;33m!=\u001b[0m \u001b[1;34m'blend'\u001b[0m\u001b[1;33m:\u001b[0m\u001b[1;33m\u001b[0m\u001b[1;33m\u001b[0m\u001b[0m\n\u001b[0;32m      3\u001b[0m         \u001b[1;32mfor\u001b[0m \u001b[0mfeatList\u001b[0m \u001b[1;32min\u001b[0m \u001b[1;33m[\u001b[0m\u001b[0mtop_5_feats\u001b[0m\u001b[1;33m,\u001b[0m \u001b[0mtop_10_feats\u001b[0m\u001b[1;33m,\u001b[0m \u001b[0mtop_15_feats\u001b[0m\u001b[1;33m]\u001b[0m\u001b[1;33m:\u001b[0m\u001b[1;33m\u001b[0m\u001b[1;33m\u001b[0m\u001b[0m\n\u001b[1;32m----> 4\u001b[1;33m             \u001b[0mres\u001b[0m \u001b[1;33m=\u001b[0m \u001b[0mmodel\u001b[0m\u001b[1;33m.\u001b[0m\u001b[0mretrain\u001b[0m\u001b[1;33m(\u001b[0m\u001b[0msample_pct\u001b[0m \u001b[1;33m=\u001b[0m \u001b[1;36m64\u001b[0m\u001b[1;33m,\u001b[0m \u001b[0mfeaturelist_id\u001b[0m \u001b[1;33m=\u001b[0m \u001b[0mfeatList\u001b[0m\u001b[1;33m.\u001b[0m\u001b[0mid\u001b[0m\u001b[1;33m)\u001b[0m\u001b[1;33m\u001b[0m\u001b[1;33m\u001b[0m\u001b[0m\n\u001b[0m\u001b[0;32m      5\u001b[0m             \u001b[0mprint\u001b[0m\u001b[1;33m(\u001b[0m\u001b[1;34m\"Training model: \"\u001b[0m \u001b[1;33m+\u001b[0m \u001b[0mstr\u001b[0m\u001b[1;33m(\u001b[0m\u001b[0mres\u001b[0m\u001b[1;33m)\u001b[0m\u001b[1;33m)\u001b[0m\u001b[1;33m\u001b[0m\u001b[1;33m\u001b[0m\u001b[0m\n",
      "\u001b[1;32m~\\Anaconda3\\lib\\site-packages\\datarobot\\models\\model.py\u001b[0m in \u001b[0;36mretrain\u001b[1;34m(self, sample_pct, featurelist_id, training_row_count)\u001b[0m\n\u001b[0;32m    739\u001b[0m             \u001b[1;34m\"trainingRowCount\"\u001b[0m\u001b[1;33m:\u001b[0m \u001b[0mtraining_row_count\u001b[0m\u001b[1;33m,\u001b[0m\u001b[1;33m\u001b[0m\u001b[1;33m\u001b[0m\u001b[0m\n\u001b[0;32m    740\u001b[0m         }\n\u001b[1;32m--> 741\u001b[1;33m         \u001b[0mresponse\u001b[0m \u001b[1;33m=\u001b[0m \u001b[0mself\u001b[0m\u001b[1;33m.\u001b[0m\u001b[0m_client\u001b[0m\u001b[1;33m.\u001b[0m\u001b[0mpost\u001b[0m\u001b[1;33m(\u001b[0m\u001b[0murl\u001b[0m\u001b[1;33m,\u001b[0m \u001b[0mdata\u001b[0m\u001b[1;33m=\u001b[0m\u001b[0mpayload\u001b[0m\u001b[1;33m)\u001b[0m\u001b[1;33m\u001b[0m\u001b[1;33m\u001b[0m\u001b[0m\n\u001b[0m\u001b[0;32m    742\u001b[0m         \u001b[1;32mreturn\u001b[0m \u001b[0mModelJob\u001b[0m\u001b[1;33m.\u001b[0m\u001b[0mfrom_id\u001b[0m\u001b[1;33m(\u001b[0m\u001b[0mself\u001b[0m\u001b[1;33m.\u001b[0m\u001b[0mproject_id\u001b[0m\u001b[1;33m,\u001b[0m \u001b[0mget_id_from_response\u001b[0m\u001b[1;33m(\u001b[0m\u001b[0mresponse\u001b[0m\u001b[1;33m)\u001b[0m\u001b[1;33m)\u001b[0m\u001b[1;33m\u001b[0m\u001b[1;33m\u001b[0m\u001b[0m\n\u001b[0;32m    743\u001b[0m \u001b[1;33m\u001b[0m\u001b[0m\n",
      "\u001b[1;32m~\\Anaconda3\\lib\\site-packages\\datarobot\\rest.py\u001b[0m in \u001b[0;36mpost\u001b[1;34m(self, url, data, keep_attrs, **kwargs)\u001b[0m\n\u001b[0;32m    154\u001b[0m         \u001b[1;32mif\u001b[0m \u001b[0mdata\u001b[0m\u001b[1;33m:\u001b[0m\u001b[1;33m\u001b[0m\u001b[1;33m\u001b[0m\u001b[0m\n\u001b[0;32m    155\u001b[0m             \u001b[0mkwargs\u001b[0m\u001b[1;33m[\u001b[0m\u001b[1;34m\"json\"\u001b[0m\u001b[1;33m]\u001b[0m \u001b[1;33m=\u001b[0m \u001b[0mto_api\u001b[0m\u001b[1;33m(\u001b[0m\u001b[0mdata\u001b[0m\u001b[1;33m,\u001b[0m \u001b[0mkeep_attrs\u001b[0m\u001b[1;33m)\u001b[0m\u001b[1;33m\u001b[0m\u001b[1;33m\u001b[0m\u001b[0m\n\u001b[1;32m--> 156\u001b[1;33m         \u001b[1;32mreturn\u001b[0m \u001b[0mself\u001b[0m\u001b[1;33m.\u001b[0m\u001b[0mrequest\u001b[0m\u001b[1;33m(\u001b[0m\u001b[1;34m\"post\"\u001b[0m\u001b[1;33m,\u001b[0m \u001b[0murl\u001b[0m\u001b[1;33m,\u001b[0m \u001b[1;33m**\u001b[0m\u001b[0mkwargs\u001b[0m\u001b[1;33m)\u001b[0m\u001b[1;33m\u001b[0m\u001b[1;33m\u001b[0m\u001b[0m\n\u001b[0m\u001b[0;32m    157\u001b[0m \u001b[1;33m\u001b[0m\u001b[0m\n\u001b[0;32m    158\u001b[0m     \u001b[1;32mdef\u001b[0m \u001b[0mpatch\u001b[0m\u001b[1;33m(\u001b[0m\u001b[0mself\u001b[0m\u001b[1;33m,\u001b[0m \u001b[0murl\u001b[0m\u001b[1;33m,\u001b[0m \u001b[0mdata\u001b[0m\u001b[1;33m=\u001b[0m\u001b[1;32mNone\u001b[0m\u001b[1;33m,\u001b[0m \u001b[0mkeep_attrs\u001b[0m\u001b[1;33m=\u001b[0m\u001b[1;32mNone\u001b[0m\u001b[1;33m,\u001b[0m \u001b[1;33m**\u001b[0m\u001b[0mkwargs\u001b[0m\u001b[1;33m)\u001b[0m\u001b[1;33m:\u001b[0m\u001b[1;33m\u001b[0m\u001b[1;33m\u001b[0m\u001b[0m\n",
      "\u001b[1;32m~\\Anaconda3\\lib\\site-packages\\datarobot\\rest.py\u001b[0m in \u001b[0;36mrequest\u001b[1;34m(self, method, url, join_endpoint, **kwargs)\u001b[0m\n\u001b[0;32m    145\u001b[0m         \u001b[0mresponse\u001b[0m \u001b[1;33m=\u001b[0m \u001b[0msuper\u001b[0m\u001b[1;33m(\u001b[0m\u001b[0mRESTClientObject\u001b[0m\u001b[1;33m,\u001b[0m \u001b[0mself\u001b[0m\u001b[1;33m)\u001b[0m\u001b[1;33m.\u001b[0m\u001b[0mrequest\u001b[0m\u001b[1;33m(\u001b[0m\u001b[0mmethod\u001b[0m\u001b[1;33m,\u001b[0m \u001b[0murl\u001b[0m\u001b[1;33m,\u001b[0m \u001b[1;33m**\u001b[0m\u001b[0mkwargs\u001b[0m\u001b[1;33m)\u001b[0m\u001b[1;33m\u001b[0m\u001b[1;33m\u001b[0m\u001b[0m\n\u001b[0;32m    146\u001b[0m         \u001b[1;32mif\u001b[0m \u001b[1;32mnot\u001b[0m \u001b[0mresponse\u001b[0m\u001b[1;33m:\u001b[0m\u001b[1;33m\u001b[0m\u001b[1;33m\u001b[0m\u001b[0m\n\u001b[1;32m--> 147\u001b[1;33m             \u001b[0mhandle_http_error\u001b[0m\u001b[1;33m(\u001b[0m\u001b[0mresponse\u001b[0m\u001b[1;33m,\u001b[0m \u001b[1;33m**\u001b[0m\u001b[0mkwargs\u001b[0m\u001b[1;33m)\u001b[0m\u001b[1;33m\u001b[0m\u001b[1;33m\u001b[0m\u001b[0m\n\u001b[0m\u001b[0;32m    148\u001b[0m         \u001b[1;32mreturn\u001b[0m \u001b[0mresponse\u001b[0m\u001b[1;33m\u001b[0m\u001b[1;33m\u001b[0m\u001b[0m\n\u001b[0;32m    149\u001b[0m \u001b[1;33m\u001b[0m\u001b[0m\n",
      "\u001b[1;32m~\\Anaconda3\\lib\\site-packages\\datarobot\\rest.py\u001b[0m in \u001b[0;36mhandle_http_error\u001b[1;34m(response, **kwargs)\u001b[0m\n\u001b[0;32m    281\u001b[0m         \u001b[0mtemplate\u001b[0m \u001b[1;33m=\u001b[0m \u001b[1;34m\"{} client error: {}\"\u001b[0m\u001b[1;33m\u001b[0m\u001b[1;33m\u001b[0m\u001b[0m\n\u001b[0;32m    282\u001b[0m         \u001b[0mexc_message\u001b[0m \u001b[1;33m=\u001b[0m \u001b[0mtemplate\u001b[0m\u001b[1;33m.\u001b[0m\u001b[0mformat\u001b[0m\u001b[1;33m(\u001b[0m\u001b[0mresponse\u001b[0m\u001b[1;33m.\u001b[0m\u001b[0mstatus_code\u001b[0m\u001b[1;33m,\u001b[0m \u001b[0mmessage\u001b[0m\u001b[1;33m)\u001b[0m\u001b[1;33m\u001b[0m\u001b[1;33m\u001b[0m\u001b[0m\n\u001b[1;32m--> 283\u001b[1;33m         \u001b[1;32mraise\u001b[0m \u001b[0mexception_type\u001b[0m\u001b[1;33m(\u001b[0m\u001b[0mexc_message\u001b[0m\u001b[1;33m,\u001b[0m \u001b[0mresponse\u001b[0m\u001b[1;33m.\u001b[0m\u001b[0mstatus_code\u001b[0m\u001b[1;33m,\u001b[0m \u001b[0mjson\u001b[0m\u001b[1;33m=\u001b[0m\u001b[0mparsed_json\u001b[0m\u001b[1;33m)\u001b[0m\u001b[1;33m\u001b[0m\u001b[1;33m\u001b[0m\u001b[0m\n\u001b[0m\u001b[0;32m    284\u001b[0m     \u001b[1;32melse\u001b[0m\u001b[1;33m:\u001b[0m\u001b[1;33m\u001b[0m\u001b[1;33m\u001b[0m\u001b[0m\n\u001b[0;32m    285\u001b[0m         \u001b[0mtemplate\u001b[0m \u001b[1;33m=\u001b[0m \u001b[1;34m\"{} server error: {}\"\u001b[0m\u001b[1;33m\u001b[0m\u001b[1;33m\u001b[0m\u001b[0m\n",
      "\u001b[1;31mClientError\u001b[0m: 422 client error: {'message': 'Model 61717b071c0a78984b9e86f3 can not be retrained with featurelist 61718477e294229c6cc08f96'}"
     ]
    }
   ],
   "source": [
    "for model in models_64:\n",
    "    if model.model_category != 'blend':\n",
    "        for featList in [top_5_feats, top_10_feats, top_15_feats]:\n",
    "            res = model.retrain(sample_pct = 64, featurelist_id = featList.id)\n",
    "            print(\"Training model: \" + str(res))"
   ]
  },
  {
   "cell_type": "markdown",
   "metadata": {},
   "source": [
    "**Plot performance based on the different feature lists**\n",
    "- Create a list with all of the models retrained on top_5, top_10, and top 15 feature lists.\n",
    "- Find the average value of the cross-validation score based on AUC for the retrained models and plot that."
   ]
  },
  {
   "cell_type": "code",
   "execution_count": 82,
   "metadata": {},
   "outputs": [],
   "source": [
    "models_w_top5 = []\n",
    "models_w_top10 = []\n",
    "models_w_top15 = []       "
   ]
  },
  {
   "cell_type": "code",
   "execution_count": 125,
   "metadata": {},
   "outputs": [],
   "source": [
    "new_models = project.get_models(search_params={\n",
    "                'sample_pct': \"64\"})"
   ]
  },
  {
   "cell_type": "code",
   "execution_count": 127,
   "metadata": {},
   "outputs": [
    {
     "name": "stdout",
     "output_type": "stream",
     "text": [
      "None\n",
      "DR Reduced Features M21\n",
      "Informative Features\n",
      "Top15_Feats\n",
      "Informative Features\n",
      "Top10_Feats\n",
      "Top15_Feats\n",
      "Informative Features\n",
      "Informative Features\n",
      "Top15_Feats\n",
      "Top15_Feats\n",
      "Top10_Feats\n",
      "Top10_Feats\n",
      "Top10_Feats\n",
      "Top5_Feats\n",
      "Top5_Feats\n",
      "Top5_Feats\n",
      "Top5_Feats\n",
      "Informative Features\n",
      "Informative Features\n",
      "Informative Features\n"
     ]
    }
   ],
   "source": [
    "for model in new_models:\n",
    "    print(model.featurelist_name)\n",
    "    if model.featurelist_name == 'Top5_Feats':\n",
    "        models_w_top5.append(model)\n",
    "    if model.featurelist_name == 'Top10_Feats':\n",
    "        models_w_top10.append(model)\n",
    "    if model.featurelist_name == 'Top15_Feats':\n",
    "        models_w_top15.append(model) "
   ]
  },
  {
   "cell_type": "code",
   "execution_count": 128,
   "metadata": {},
   "outputs": [],
   "source": [
    "for model in new_models:\n",
    "    try:\n",
    "        model.cross_validate()\n",
    "    except:\n",
    "        pass"
   ]
  },
  {
   "cell_type": "code",
   "execution_count": 129,
   "metadata": {},
   "outputs": [],
   "source": [
    "import time\n",
    "\n",
    "#Wait for calculations to finish\n",
    "while len(project.get_all_jobs()) > 0:\n",
    "    time.sleep(5)\n",
    "    print(\".\")"
   ]
  },
  {
   "cell_type": "code",
   "execution_count": 130,
   "metadata": {},
   "outputs": [],
   "source": [
    "retrained_models = project.get_models(search_params={\n",
    "                'sample_pct': \"64\"})"
   ]
  },
  {
   "cell_type": "code",
   "execution_count": 131,
   "metadata": {},
   "outputs": [
    {
     "name": "stdout",
     "output_type": "stream",
     "text": [
      "None\n",
      "DR Reduced Features M21\n",
      "Informative Features\n",
      "Top15_Feats\n",
      "Informative Features\n",
      "Top10_Feats\n",
      "Top15_Feats\n",
      "Informative Features\n",
      "Informative Features\n",
      "Top15_Feats\n",
      "Top15_Feats\n",
      "Top10_Feats\n",
      "Top10_Feats\n",
      "Top10_Feats\n",
      "Top5_Feats\n",
      "Top5_Feats\n",
      "Top5_Feats\n",
      "Top5_Feats\n",
      "Informative Features\n",
      "Informative Features\n",
      "Informative Features\n"
     ]
    }
   ],
   "source": [
    "for model in retrained_models:\n",
    "    print(model.featurelist_name)\n",
    "    if model.featurelist_name == 'top5_Feats':\n",
    "        models_w_top5.add(model)\n",
    "    if model.featurelist_name == 'top10_Feats':\n",
    "        models_w_top10.add(model)\n",
    "    if model.featurelist_name == 'top15_Feats':\n",
    "        models_w_top15.add(model) "
   ]
  },
  {
   "cell_type": "code",
   "execution_count": 132,
   "metadata": {},
   "outputs": [],
   "source": [
    "#Empty lists to hold results\n",
    "top_5_cv_scores = []\n",
    "top_10_cv_scores = []\n",
    "top_15_cv_scores = []\n",
    "\n",
    "for model in retrained_models:\n",
    "    if model.featurelist_name == 'Top5_Feats':\n",
    "        top_5_cv_scores.append(model.metrics['AUC']['crossValidation'])\n",
    "    elif model.featurelist_name == 'Top10_Feats':\n",
    "        top_10_cv_scores.append(model.metrics['AUC']['crossValidation'])\n",
    "    else:\n",
    "        top_15_cv_scores.append(model.metrics['AUC']['crossValidation'])"
   ]
  },
  {
   "cell_type": "code",
   "execution_count": 133,
   "metadata": {},
   "outputs": [
    {
     "data": {
      "text/plain": [
       "[0.704482,\n",
       " 0.701064,\n",
       " 0.702508,\n",
       " 0.699572,\n",
       " 0.6999259999999999,\n",
       " 0.694308,\n",
       " 0.6952619999999999,\n",
       " 0.6956979999999999,\n",
       " 0.69185,\n",
       " 0.693472,\n",
       " 0.560452,\n",
       " 0.5579080000000001,\n",
       " 0.555132]"
      ]
     },
     "execution_count": 133,
     "metadata": {},
     "output_type": "execute_result"
    }
   ],
   "source": [
    "top_5_cv_scores"
   ]
  },
  {
   "cell_type": "code",
   "execution_count": 136,
   "metadata": {},
   "outputs": [
    {
     "data": {
      "text/plain": [
       "[0.68963, 0.689306, 0.6862579999999999, 0.683848]"
      ]
     },
     "execution_count": 136,
     "metadata": {},
     "output_type": "execute_result"
    }
   ],
   "source": [
    "top_10_cv_scores"
   ]
  },
  {
   "cell_type": "code",
   "execution_count": 137,
   "metadata": {},
   "outputs": [
    {
     "data": {
      "text/plain": [
       "[0.704482,\n",
       " 0.701064,\n",
       " 0.702508,\n",
       " 0.699572,\n",
       " 0.6999259999999999,\n",
       " 0.694308,\n",
       " 0.6952619999999999,\n",
       " 0.6956979999999999,\n",
       " 0.69185,\n",
       " 0.693472,\n",
       " 0.560452,\n",
       " 0.5579080000000001,\n",
       " 0.555132]"
      ]
     },
     "execution_count": 137,
     "metadata": {},
     "output_type": "execute_result"
    }
   ],
   "source": [
    "top_15_cv_scores"
   ]
  },
  {
   "cell_type": "code",
   "execution_count": 134,
   "metadata": {},
   "outputs": [
    {
     "data": {
      "text/plain": [
       "[<matplotlib.lines.Line2D at 0x231c8d746a0>]"
      ]
     },
     "execution_count": 134,
     "metadata": {},
     "output_type": "execute_result"
    },
    {
     "data": {
      "image/png": "[encoded data removed]",
      "text/plain": [
       "<Figure size 432x288 with 1 Axes>"
      ]
     },
     "metadata": {
      "needs_background": "light"
     },
     "output_type": "display_data"
    }
   ],
   "source": [
    "from statistics import mean \n",
    "import matplotlib.pyplot as plt\n",
    "\n",
    "values = [mean(top_5_cv_scores), mean(top_10_cv_scores), mean(top_15_cv_scores)]\n",
    "names = ['top5_feats', 'top10_feats', 'top15_feats']\n",
    "\n",
    "plt.plot(names,values)"
   ]
  },
  {
   "cell_type": "code",
   "execution_count": 135,
   "metadata": {},
   "outputs": [
    {
     "data": {
      "text/plain": [
       "[0.6636755000000001, 0.6872604999999999, 0.6655103076923077]"
      ]
     },
     "execution_count": 135,
     "metadata": {},
     "output_type": "execute_result"
    }
   ],
   "source": [
    "values"
   ]
  },
  {
   "cell_type": "code",
   "execution_count": null,
   "metadata": {},
   "outputs": [],
   "source": []
  }
 ],
 "metadata": {
  "kernelspec": {
   "display_name": "Python 3",
   "language": "python",
   "name": "python3"
  },
  "language_info": {
   "codemirror_mode": {
    "name": "ipython",
    "version": 3
   },
   "file_extension": ".py",
   "mimetype": "text/x-python",
   "name": "python",
   "nbconvert_exporter": "python",
   "pygments_lexer": "ipython3",
   "version": "3.7.3"
  }
 },
 "nbformat": 4,
 "nbformat_minor": 2
}
